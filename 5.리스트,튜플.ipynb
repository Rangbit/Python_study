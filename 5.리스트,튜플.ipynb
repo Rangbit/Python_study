{
 "cells": [
  {
   "cell_type": "markdown",
   "id": "4c4cca7a",
   "metadata": {},
   "source": [
    "### 리스트\n",
    "- list\n",
    "- 파이썬의 자료 구조 형태중 하나,\n",
    "- 순서가 있고, 수정 가능한 객체의 집합 : 수정,삭제,추가 가능\n",
    "- ([])로 작성, 내부요소(,) 로 구분"
   ]
  },
  {
   "cell_type": "markdown",
   "id": "48b6c011",
   "metadata": {},
   "source": [
    "### 리스트 인덱싱\n",
    "- 리스트명[인덱스번호], "
   ]
  },
  {
   "cell_type": "code",
   "execution_count": 4,
   "id": "2d5bcdfe",
   "metadata": {},
   "outputs": [
    {
     "name": "stdout",
     "output_type": "stream",
     "text": [
      "['a', 'b', 'c']\n",
      "b\n",
      "b\n"
     ]
    }
   ],
   "source": [
    "list2 = [1, 2, 3, ['a', 'b', 'c']]\n",
    "temp = list2[3]\n",
    "print(temp)\n",
    "print(temp[1])\n",
    "print(list2[3][1])"
   ]
  },
  {
   "cell_type": "markdown",
   "id": "204b0051",
   "metadata": {},
   "source": [
    "### 리스트 슬라이싱\n",
    "- 리스트명[start:end]\n",
    "- 시작값 포함, 끝값 미포함"
   ]
  },
  {
   "cell_type": "code",
   "execution_count": 5,
   "id": "b559694e",
   "metadata": {},
   "outputs": [
    {
     "data": {
      "text/plain": [
       "[1, 2]"
      ]
     },
     "execution_count": 5,
     "metadata": {},
     "output_type": "execute_result"
    }
   ],
   "source": [
    "list3 = [0,1,2,3,4]\n",
    "list3[1:3]"
   ]
  },
  {
   "cell_type": "code",
   "execution_count": 6,
   "id": "6b42b035",
   "metadata": {},
   "outputs": [
    {
     "data": {
      "text/plain": [
       "[1, 2, 3, 3, 4, 5, 6]"
      ]
     },
     "execution_count": 6,
     "metadata": {},
     "output_type": "execute_result"
    }
   ],
   "source": [
    "# list + list = 뒤에 붙는다(숫자연산X)\n",
    "list4 = [1,2,3]\n",
    "list5 = [3,4,5,6]\n",
    "list4+list5"
   ]
  },
  {
   "cell_type": "markdown",
   "id": "f290a948",
   "metadata": {},
   "source": [
    "### 리스트 관련 함수\n",
    "#### 리스트 값 추가 : append(),insert()\n",
    "- list.append(값) : 리스트의 맨 뒤에 값을 추가\n",
    "- list.insert(인덱스 위치, 값) : 사용자가 지정한 위치에 추가\n",
    "\n",
    "#### 리스트 값 수정\n",
    "- 리스트[인덱스] = 값 : 해당위치의 값을 수정한다(새로 대입)\n",
    "\n",
    "#### 리스트 값 삭제 : remove(),del 객체\n",
    "- 리스트.remove(값) : 해당하는 값을 삭제\n",
    "- del 리스트[인덱스] : 해당하는 위치의 값을 삭제(인덱스 작성x 시 리스트 삭제)"
   ]
  },
  {
   "cell_type": "code",
   "execution_count": 45,
   "id": "b7e2f139",
   "metadata": {},
   "outputs": [
    {
     "data": {
      "text/plain": [
       "['사과', '배', '딸기', '포도', '복숭아']"
      ]
     },
     "execution_count": 45,
     "metadata": {},
     "output_type": "execute_result"
    }
   ],
   "source": [
    "list_fs = ['사과', '배', '포도']\n",
    "list_fs.append('복숭아')\n",
    "list_fs.insert(2, '딸기')\n",
    "list_fs"
   ]
  },
  {
   "cell_type": "code",
   "execution_count": 46,
   "id": "87db0e06",
   "metadata": {},
   "outputs": [
    {
     "data": {
      "text/plain": [
       "['수박', '배', '딸기', '포도', '복숭아']"
      ]
     },
     "execution_count": 46,
     "metadata": {},
     "output_type": "execute_result"
    }
   ],
   "source": [
    "list_fs[0] = '수박'\n",
    "list_fs"
   ]
  },
  {
   "cell_type": "code",
   "execution_count": 47,
   "id": "9d7729b3",
   "metadata": {},
   "outputs": [
    {
     "data": {
      "text/plain": [
       "['배', '딸기', '포도', '복숭아']"
      ]
     },
     "execution_count": 47,
     "metadata": {},
     "output_type": "execute_result"
    }
   ],
   "source": [
    "list_fs.remove('수박')\n",
    "list_fs"
   ]
  },
  {
   "cell_type": "code",
   "execution_count": 48,
   "id": "c234447c",
   "metadata": {},
   "outputs": [
    {
     "data": {
      "text/plain": [
       "['딸기', '포도', '복숭아']"
      ]
     },
     "execution_count": 48,
     "metadata": {},
     "output_type": "execute_result"
    }
   ],
   "source": [
    "del list_fs[0]\n",
    "list_fs"
   ]
  },
  {
   "cell_type": "code",
   "execution_count": 49,
   "id": "5674523b",
   "metadata": {},
   "outputs": [
    {
     "data": {
      "text/plain": [
       "['포도', '복숭아']"
      ]
     },
     "execution_count": 49,
     "metadata": {},
     "output_type": "execute_result"
    }
   ],
   "source": [
    "# pop() : 해당하는 위치의 값을 삭제하는데, 값을 남김\n",
    "strawberry = list_fs.pop(0)\n",
    "list_fs"
   ]
  },
  {
   "cell_type": "code",
   "execution_count": 50,
   "id": "615dac7e",
   "metadata": {},
   "outputs": [
    {
     "data": {
      "text/plain": [
       "'딸기'"
      ]
     },
     "execution_count": 50,
     "metadata": {},
     "output_type": "execute_result"
    }
   ],
   "source": [
    "strawberry"
   ]
  },
  {
   "cell_type": "markdown",
   "id": "66b3c9c7",
   "metadata": {},
   "source": [
    "### 리스트 정렬 : sort(), reverse()\n",
    "- 리스트.sort() : 오름차순 정렬\n",
    "- 리스트.reverse() : 요소들을 역순으로 뒤집기\n",
    "    - 리스트.sort().reverse() : 내림차순 정렬을 할때"
   ]
  },
  {
   "cell_type": "code",
   "execution_count": 59,
   "id": "c623788b",
   "metadata": {},
   "outputs": [
    {
     "data": {
      "text/plain": [
       "[5, 8, 9, 10, 11, 32, 66]"
      ]
     },
     "execution_count": 59,
     "metadata": {},
     "output_type": "execute_result"
    }
   ],
   "source": [
    "list_nums = [11, 32, 5, 66, 8, 9, 10]\n",
    "list_nums.sort()\n",
    "list_nums"
   ]
  },
  {
   "cell_type": "code",
   "execution_count": 60,
   "id": "6baa7327",
   "metadata": {},
   "outputs": [
    {
     "data": {
      "text/plain": [
       "[66, 32, 11, 10, 9, 8, 5]"
      ]
     },
     "execution_count": 60,
     "metadata": {},
     "output_type": "execute_result"
    }
   ],
   "source": [
    "list_nums = [11, 32, 5, 66, 8, 9, 10]\n",
    "list_nums.reverse()\n",
    "list_nums"
   ]
  },
  {
   "cell_type": "code",
   "execution_count": 62,
   "id": "60d3dd05",
   "metadata": {},
   "outputs": [
    {
     "data": {
      "text/plain": [
       "[66, 32, 11, 10, 9, 8, 5]"
      ]
     },
     "execution_count": 62,
     "metadata": {},
     "output_type": "execute_result"
    }
   ],
   "source": [
    "list_nums = [11, 32, 5, 66, 8, 9, 10]\n",
    "list_nums.sort()\n",
    "list_nums.reverse()\n",
    "list_nums"
   ]
  },
  {
   "cell_type": "markdown",
   "id": "840e710b",
   "metadata": {},
   "source": [
    "### 리스트 길이 확인\n",
    "- len(리스트) : 리스트의 길이를 반환"
   ]
  },
  {
   "cell_type": "code",
   "execution_count": 63,
   "id": "9e537a56",
   "metadata": {},
   "outputs": [
    {
     "data": {
      "text/plain": [
       "7"
      ]
     },
     "execution_count": 63,
     "metadata": {},
     "output_type": "execute_result"
    }
   ],
   "source": [
    "len(list_nums)"
   ]
  }
 ],
 "metadata": {
  "kernelspec": {
   "display_name": "Python 3 (ipykernel)",
   "language": "python",
   "name": "python3"
  },
  "language_info": {
   "codemirror_mode": {
    "name": "ipython",
    "version": 3
   },
   "file_extension": ".py",
   "mimetype": "text/x-python",
   "name": "python",
   "nbconvert_exporter": "python",
   "pygments_lexer": "ipython3",
   "version": "3.11.3"
  }
 },
 "nbformat": 4,
 "nbformat_minor": 5
}

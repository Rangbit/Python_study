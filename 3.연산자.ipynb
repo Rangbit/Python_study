{
 "cells": [
  {
   "cell_type": "markdown",
   "id": "78302b31",
   "metadata": {},
   "source": [
    "### 연산자의 종류\n",
    "\n",
    "1. 산술 연산자 +   -   *   /   //   %\n",
    "2. 지수 연산자 **\n",
    "3. 대입(복합)연산자  =   +=   -=   *=   /=   //=   %=\n",
    "4. 관계(비교) 연산자 : 두 수를 비교하여 참 또는 거짓을 반환.  >    >=   <   <=   ==   !=\n",
    "5. 논리 연산자 : 조건문을 연결하기 위해 사용.  and or not\n",
    "6. 멤버 연산자 : 해당 값이 대상 객체에 존재하는지 확인하기 위해 사용.  in   not in\n",
    "6. 삼항 연산자 a if 조건식 else b\n"
   ]
  },
  {
   "cell_type": "code",
   "execution_count": 3,
   "id": "e21ab173",
   "metadata": {
    "scrolled": true
   },
   "outputs": [
    {
     "name": "stdout",
     "output_type": "stream",
     "text": [
      "나누기 : 1.43\n",
      "나머지 : 3\n",
      "몫 : 1\n"
     ]
    }
   ],
   "source": [
    "#산술연산자\n",
    "#나누기(/), 나머지(%), 몫(//)\n",
    "\n",
    "num1 = 10\n",
    "num2 = 7\n",
    "\n",
    "# :.2f -> 소수점 두번째자리까지, 반올림출력\n",
    "print(f\"나누기 : {num1/num2:.2f}\")\n",
    "print(f\"나머지 : {num1%num2}\")\n",
    "print(f\"몫 : {num1//num2}\")"
   ]
  },
  {
   "cell_type": "markdown",
   "id": "4436e74d",
   "metadata": {},
   "source": [
    "- 문자열 더하기"
   ]
  },
  {
   "cell_type": "code",
   "execution_count": 8,
   "id": "07fbd5fb",
   "metadata": {},
   "outputs": [
    {
     "name": "stdout",
     "output_type": "stream",
     "text": [
      "안녕하세요\n",
      "안녕 하세요\n",
      "안녕하세요\n"
     ]
    }
   ],
   "source": [
    "str1 = '안녕'\n",
    "str2 = '하세요'\n",
    "print(str1+str2)\n",
    "print(str1,str2)\n",
    "print(str1,str2, sep='')"
   ]
  },
  {
   "cell_type": "code",
   "execution_count": 9,
   "id": "904a08aa",
   "metadata": {},
   "outputs": [
    {
     "name": "stdout",
     "output_type": "stream",
     "text": [
      "107\n"
     ]
    }
   ],
   "source": [
    "num_str1 = '10'\n",
    "num_str2 = '7'\n",
    "print(num_str1+num_str2)"
   ]
  },
  {
   "cell_type": "code",
   "execution_count": 10,
   "id": "0fdb5d81",
   "metadata": {},
   "outputs": [
    {
     "ename": "TypeError",
     "evalue": "unsupported operand type(s) for +: 'int' and 'str'",
     "output_type": "error",
     "traceback": [
      "\u001b[1;31m---------------------------------------------------------------------------\u001b[0m",
      "\u001b[1;31mTypeError\u001b[0m                                 Traceback (most recent call last)",
      "Cell \u001b[1;32mIn[10], line 3\u001b[0m\n\u001b[0;32m      1\u001b[0m num1 \u001b[38;5;241m=\u001b[39m \u001b[38;5;241m10\u001b[39m\n\u001b[0;32m      2\u001b[0m str1 \u001b[38;5;241m=\u001b[39m \u001b[38;5;124m'\u001b[39m\u001b[38;5;124m7\u001b[39m\u001b[38;5;124m'\u001b[39m\n\u001b[1;32m----> 3\u001b[0m \u001b[38;5;28mprint\u001b[39m(num1\u001b[38;5;241m+\u001b[39mstr1)\n",
      "\u001b[1;31mTypeError\u001b[0m: unsupported operand type(s) for +: 'int' and 'str'"
     ]
    }
   ],
   "source": [
    "#문자열+숫자 => X(자동형변환이 안됨)\n",
    "num1 = 10\n",
    "str1 = '7'\n",
    "\n",
    "print(num1+str1)"
   ]
  },
  {
   "cell_type": "code",
   "execution_count": 12,
   "id": "074bef6a",
   "metadata": {},
   "outputs": [
    {
     "name": "stdout",
     "output_type": "stream",
     "text": [
      "<class 'int'>\n",
      "17\n"
     ]
    }
   ],
   "source": [
    "#강제형변환 해주기\n",
    "i_str1 = int(str1)\n",
    "print(type(i_str1))\n",
    "print (num1+i_str1)"
   ]
  },
  {
   "cell_type": "code",
   "execution_count": 15,
   "id": "d643595e",
   "metadata": {},
   "outputs": [
    {
     "name": "stdout",
     "output_type": "stream",
     "text": [
      "더하기 결과 :  26\n",
      "빼기 결과 :  20\n",
      "곱하기 결과 :  69\n",
      "나누기 결과 : 7.67\n"
     ]
    }
   ],
   "source": [
    "num1 = 23\n",
    "num2 = 3\n",
    "print('더하기 결과 : ',num1+num2)\n",
    "print('빼기 결과 : ',num1-num2)\n",
    "print('곱하기 결과 : ',num1*num2)\n",
    "print(f'나누기 결과 : {num1/num2:.2f}')"
   ]
  },
  {
   "cell_type": "code",
   "execution_count": 19,
   "id": "3900fb76",
   "metadata": {},
   "outputs": [
    {
     "name": "stdout",
     "output_type": "stream",
     "text": [
      "정수를 입력하세요 >> 23\n"
     ]
    },
    {
     "data": {
      "text/plain": [
       "23"
      ]
     },
     "execution_count": 19,
     "metadata": {},
     "output_type": "execute_result"
    }
   ],
   "source": [
    "num = int(input(\"정수를 입력하세요 >> \"))\n",
    "num"
   ]
  },
  {
   "cell_type": "code",
   "execution_count": 20,
   "id": "16ef37be",
   "metadata": {},
   "outputs": [
    {
     "name": "stdout",
     "output_type": "stream",
     "text": [
      "정수를 입력하세요 >> 3\n",
      "정수를 입력하세요 >> 7\n",
      "더하기 결과 :  10\n",
      "빼기 결과 :  -4\n",
      "곱하기 결과 :  21\n",
      "나누기 결과 : 0.43\n"
     ]
    }
   ],
   "source": [
    "num1 = int(input(\"정수를 입력하세요 >> \"))\n",
    "num2 = int(input(\"정수를 입력하세요 >> \"))\n",
    "print('더하기 결과 : ',num1+num2)\n",
    "print('빼기 결과 : ',num1-num2)\n",
    "print('곱하기 결과 : ',num1*num2)\n",
    "print(f'나누기 결과 : {num1/num2:.2f}')"
   ]
  },
  {
   "cell_type": "code",
   "execution_count": 22,
   "id": "034d0303",
   "metadata": {},
   "outputs": [
    {
     "name": "stdout",
     "output_type": "stream",
     "text": [
      "x\n",
      "x\n",
      "x\n",
      "x\n",
      "x\n",
      "x\n",
      "x\n",
      "x\n",
      "x\n",
      "x\n",
      "\n"
     ]
    }
   ],
   "source": [
    "s = 'x\\n'\n",
    "print(s*10)"
   ]
  },
  {
   "cell_type": "markdown",
   "id": "a995c02b",
   "metadata": {},
   "source": [
    "- 지수연산자(기호:**)\n",
    "  - 제곱"
   ]
  },
  {
   "cell_type": "code",
   "execution_count": 24,
   "id": "98e548b9",
   "metadata": {},
   "outputs": [
    {
     "data": {
      "text/plain": [
       "8"
      ]
     },
     "execution_count": 24,
     "metadata": {},
     "output_type": "execute_result"
    }
   ],
   "source": [
    "2**3"
   ]
  },
  {
   "cell_type": "code",
   "execution_count": 25,
   "id": "aa2b0af8",
   "metadata": {},
   "outputs": [
    {
     "name": "stdout",
     "output_type": "stream",
     "text": [
      "정수입력 > 2\n",
      "지수입력 > 3\n",
      "2의 3승은 8입니다.\n"
     ]
    }
   ],
   "source": [
    "#키보드로 입력받아 지수연산\n",
    "num1 = int(input(\"정수입력 > \"))\n",
    "num2 = int(input(\"지수입력 > \"))\n",
    "print(f'{num1}의 {num2}승은 {num1**num2}입니다.')"
   ]
  },
  {
   "cell_type": "code",
   "execution_count": 27,
   "id": "9483628d",
   "metadata": {},
   "outputs": [
    {
     "name": "stdout",
     "output_type": "stream",
     "text": [
      "a = 20\n",
      "b = 10\n"
     ]
    }
   ],
   "source": [
    "#치환\n",
    "a = 10\n",
    "b = 20\n",
    "a,b = b,a\n",
    "print(f'a = {a}')\n",
    "print(f'b = {b}')"
   ]
  },
  {
   "cell_type": "code",
   "execution_count": 33,
   "id": "515c2940",
   "metadata": {},
   "outputs": [],
   "source": [
    "# crtl + enter 로 import, as 변수명 으로 변수명설정\n",
    "import random as rd"
   ]
  },
  {
   "cell_type": "code",
   "execution_count": 35,
   "id": "2fe8dbd2",
   "metadata": {},
   "outputs": [
    {
     "name": "stdout",
     "output_type": "stream",
     "text": [
      "a:10, b:1\n",
      "False\n",
      "True\n",
      "False\n",
      "True\n"
     ]
    }
   ],
   "source": [
    "a = rd.randint(1,10)\n",
    "b = rd.randint(1,10)\n",
    "print(f\"a:{a}, b:{b}\")\n",
    "\n",
    "print(a < b)\n",
    "print(a > b)\n",
    "print(a == b)\n",
    "print(a != b)"
   ]
  },
  {
   "cell_type": "markdown",
   "id": "4fa1c8a9",
   "metadata": {},
   "source": [
    "### 논리연산자\n",
    "- True, False의 논리값(boolean값)을 '반환'하는 연산자\n",
    "- not연산자 ++"
   ]
  },
  {
   "cell_type": "code",
   "execution_count": 36,
   "id": "b413c4c2",
   "metadata": {},
   "outputs": [
    {
     "name": "stdout",
     "output_type": "stream",
     "text": [
      "a < b:True\n",
      "a < b:False\n"
     ]
    }
   ],
   "source": [
    "a = 3\n",
    "b = 7\n",
    "print(f'a < b:{a < b}')\n",
    "print(f'a < b:{not a < b}')"
   ]
  },
  {
   "cell_type": "markdown",
   "id": "75c806d6",
   "metadata": {},
   "source": [
    "- and 연산자\n",
    "  - 두 조건이 모두 참(True)일 경우 참(True)로 반환"
   ]
  },
  {
   "cell_type": "code",
   "execution_count": 42,
   "id": "f66ec34e",
   "metadata": {},
   "outputs": [
    {
     "name": "stdout",
     "output_type": "stream",
     "text": [
      "True\n",
      "True\n",
      "False\n"
     ]
    }
   ],
   "source": [
    "print(3 < 5)\n",
    "print(10 < 20)\n",
    "\n",
    "print(3 < 5 and 10 > 20)"
   ]
  },
  {
   "cell_type": "markdown",
   "id": "45aee0cd",
   "metadata": {},
   "source": [
    "- or 연산자\n",
    "    - 두 조건이 하나라도 참(True)이면 반환"
   ]
  },
  {
   "cell_type": "code",
   "execution_count": 43,
   "id": "3c0fb155",
   "metadata": {},
   "outputs": [
    {
     "name": "stdout",
     "output_type": "stream",
     "text": [
      "True\n",
      "True\n",
      "True\n"
     ]
    }
   ],
   "source": [
    "print(3 < 5)\n",
    "print(10 < 20)\n",
    "\n",
    "print(3 < 5 or 10 > 20)"
   ]
  },
  {
   "cell_type": "code",
   "execution_count": 44,
   "id": "b7b53a32",
   "metadata": {},
   "outputs": [
    {
     "data": {
      "text/plain": [
       "True"
      ]
     },
     "execution_count": 44,
     "metadata": {},
     "output_type": "execute_result"
    }
   ],
   "source": [
    "str1 = '파이썬 최고'\n",
    "'파이썬' in str1"
   ]
  },
  {
   "cell_type": "code",
   "execution_count": 45,
   "id": "f0d0075e",
   "metadata": {},
   "outputs": [
    {
     "data": {
      "text/plain": [
       "False"
      ]
     },
     "execution_count": 45,
     "metadata": {},
     "output_type": "execute_result"
    }
   ],
   "source": [
    "str1 = '파이썬 최고'\n",
    "'파이썬' not in str1"
   ]
  },
  {
   "cell_type": "code",
   "execution_count": 46,
   "id": "399dd1a4",
   "metadata": {},
   "outputs": [
    {
     "data": {
      "text/plain": [
       "False"
      ]
     },
     "execution_count": 46,
     "metadata": {},
     "output_type": "execute_result"
    }
   ],
   "source": [
    "list1 = [77, 38, 10]\n",
    "33 in list1"
   ]
  },
  {
   "cell_type": "code",
   "execution_count": 47,
   "id": "6482ea68",
   "metadata": {},
   "outputs": [
    {
     "data": {
      "text/plain": [
       "True"
      ]
     },
     "execution_count": 47,
     "metadata": {},
     "output_type": "execute_result"
    }
   ],
   "source": [
    "list1 = [77, 38, 10]\n",
    "33 not in list1"
   ]
  },
  {
   "cell_type": "markdown",
   "id": "7f5c0f52",
   "metadata": {},
   "source": [
    "### 삼항연산자\n",
    "- a(True) if (조건식) else b(False)"
   ]
  },
  {
   "cell_type": "code",
   "execution_count": 48,
   "id": "7d70b277",
   "metadata": {},
   "outputs": [
    {
     "data": {
      "text/plain": [
       "'합격'"
      ]
     },
     "execution_count": 48,
     "metadata": {},
     "output_type": "execute_result"
    }
   ],
   "source": [
    "score = 80\n",
    "\"합격\" if score >= 60 else \"불합격\""
   ]
  },
  {
   "cell_type": "code",
   "execution_count": 49,
   "id": "6d625602",
   "metadata": {},
   "outputs": [
    {
     "data": {
      "text/plain": [
       "'불합격'"
      ]
     },
     "execution_count": 49,
     "metadata": {},
     "output_type": "execute_result"
    }
   ],
   "source": [
    "score = 50\n",
    "\"합격\" if score >= 60 else \"불합격\""
   ]
  },
  {
   "cell_type": "code",
   "execution_count": 65,
   "id": "f0ca7374",
   "metadata": {},
   "outputs": [
    {
     "name": "stdout",
     "output_type": "stream",
     "text": [
      "정수입력 >> 8\n",
      "정수입력 >> 2\n",
      "a :8\n"
     ]
    }
   ],
   "source": [
    "a = int(input('정수입력 >> '))\n",
    "b = int(input('정수입력 >> '))\n",
    "print(f'a :{a}') if a > b else print(f'b :{b}')"
   ]
  },
  {
   "cell_type": "code",
   "execution_count": 66,
   "id": "41f68d02",
   "metadata": {},
   "outputs": [
    {
     "name": "stdout",
     "output_type": "stream",
     "text": [
      "정수입력 >> 8\n",
      "정수입력 >> 4\n",
      "두 수의 차 : 4\n"
     ]
    }
   ],
   "source": [
    "a = int(input('정수입력 >> '))\n",
    "b = int(input('정수입력 >> '))\n",
    "print(f'두 수의 차 : {a-b}') if a>b else print(f'두 수의 차 : {b-a}')"
   ]
  },
  {
   "cell_type": "code",
   "execution_count": 67,
   "id": "1173187f",
   "metadata": {},
   "outputs": [
    {
     "name": "stdout",
     "output_type": "stream",
     "text": [
      "정수입력 >> 5\n",
      "5는(은) 홀수입니다.\n"
     ]
    }
   ],
   "source": [
    "a = int(input('정수입력 >> '))\n",
    "print(f'{a}는(은) 홀수입니다.') if a%2==1 else print(f'{a}는(은) 짝수입니다.')"
   ]
  },
  {
   "cell_type": "code",
   "execution_count": null,
   "id": "9750f850",
   "metadata": {},
   "outputs": [],
   "source": []
  },
  {
   "cell_type": "code",
   "execution_count": null,
   "id": "a97af47e",
   "metadata": {},
   "outputs": [],
   "source": []
  }
 ],
 "metadata": {
  "kernelspec": {
   "display_name": "Python 3 (ipykernel)",
   "language": "python",
   "name": "python3"
  },
  "language_info": {
   "codemirror_mode": {
    "name": "ipython",
    "version": 3
   },
   "file_extension": ".py",
   "mimetype": "text/x-python",
   "name": "python",
   "nbconvert_exporter": "python",
   "pygments_lexer": "ipython3",
   "version": "3.11.3"
  }
 },
 "nbformat": 4,
 "nbformat_minor": 5
}

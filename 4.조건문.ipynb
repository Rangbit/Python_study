{
 "cells": [
  {
   "cell_type": "markdown",
   "id": "f681b2cd",
   "metadata": {},
   "source": [
    "## 조건문\n",
    "- 분기문 or 조건문\n",
    "- '상황'에따라 실행 흐름을 다르게하는 문법\n",
    "- Python 조건문의 키워드 : if, elif, else\n",
    "- <b>✔콜론(:)과 들여쓰기(spacebar * 4 or Tab)문법이 가장중요</b>"
   ]
  },
  {
   "cell_type": "code",
   "execution_count": 12,
   "id": "e49c6804",
   "metadata": {},
   "outputs": [
    {
     "name": "stdout",
     "output_type": "stream",
     "text": [
      "금액을 입력하세요 >> 9999\n",
      "버스를 탄다.\n"
     ]
    }
   ],
   "source": [
    "money = int(input(\"금액을 입력하세요 >> \"))\n",
    "if money >= 10000 :\n",
    "    print(\"택시를 탄다.\")\n",
    "elif money >= 5000 :\n",
    "    print(\"버스를 탄다.\")\n",
    "else :\n",
    "    print(\"걸어간다.\")"
   ]
  },
  {
   "cell_type": "code",
   "execution_count": 17,
   "id": "23a7e88f",
   "metadata": {},
   "outputs": [
    {
     "name": "stdout",
     "output_type": "stream",
     "text": [
      "숫자를 입력해주세요 >> 15\n",
      "3과 5의 배수입니다.\n"
     ]
    }
   ],
   "source": [
    "#and(논리연산자) : True, False를 비교하는 연산자\n",
    "#&(비트연산자) : 2진수를 계산하는 연산자\n",
    "num = int(input(\"숫자를 입력해주세요 >> \"))\n",
    "if num%3==0 and num%5==0 :\n",
    "    print(f\"{num}은(는) 3과 5의 배수입니다.\")\n",
    "else : \n",
    "    print(f\"{num}은(는) 3과 5의 배수가 아닙니다.\")"
   ]
  },
  {
   "cell_type": "code",
   "execution_count": 15,
   "id": "70a34a92",
   "metadata": {},
   "outputs": [
    {
     "name": "stdout",
     "output_type": "stream",
     "text": [
      "마스크 개수 입력 >> 7\n",
      "필요한 8개들이 개수 : 0개\n",
      "필요한 5개들이 개수 : 1개\n"
     ]
    }
   ],
   "source": [
    "countOfMask = int(input(\"마스크 개수 입력 >> \"))\n",
    "num8 = countOfMask//8\n",
    "num5 = (countOfMask%8)//5\n",
    "num5_2 = countOfMask//5\n",
    "\n",
    "if countOfMask>=8 :\n",
    "    print(f\"필요한 8개들이 개수 : {num8}개\\n필요한 5개들이 개수 : {num5+1}개\")\n",
    "elif num5_2 == 1 :\n",
    "    print(f\"필요한 8개들이 개수 : 0개\\n필요한 5개들이 개수 : {num5_2}개\")\n",
    "else :\n",
    "    print(f\"필요한 8개들이 개수 : 0개\\n필요한 5개들이 개수 : {num5_2+1}개\")"
   ]
  },
  {
   "cell_type": "code",
   "execution_count": 5,
   "id": "243ef3bf",
   "metadata": {},
   "outputs": [
    {
     "name": "stdout",
     "output_type": "stream",
     "text": [
      "점수 입력 >> 50\n",
      "50점은 F학점 입니다.\n"
     ]
    }
   ],
   "source": [
    "score = int(input(\"점수 입력 >> \"))\n",
    "\n",
    "if 100 >= score >= 90 :\n",
    "    print(f\"{score}점은 A학점 입니다.\")\n",
    "elif 90 > score >= 80 :\n",
    "    print(f\"{score}점은 B학점 입니다.\")\n",
    "elif 80 > score >= 70 :\n",
    "    print(f\"{score}점은 C학점 입니다.\")\n",
    "elif 70 > score >= 60 :\n",
    "    print(f\"{score}점은 D학점 입니다.\")\n",
    "else : \n",
    "    print(f\"{score}점은 F학점 입니다.\")"
   ]
  }
 ],
 "metadata": {
  "kernelspec": {
   "display_name": "Python 3 (ipykernel)",
   "language": "python",
   "name": "python3"
  },
  "language_info": {
   "codemirror_mode": {
    "name": "ipython",
    "version": 3
   },
   "file_extension": ".py",
   "mimetype": "text/x-python",
   "name": "python",
   "nbconvert_exporter": "python",
   "pygments_lexer": "ipython3",
   "version": "3.11.3"
  }
 },
 "nbformat": 4,
 "nbformat_minor": 5
}

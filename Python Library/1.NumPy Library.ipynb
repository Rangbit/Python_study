{
 "cells": [
  {
   "cell_type": "markdown",
   "id": "8f50ecc5",
   "metadata": {},
   "source": [
    "# NumPy Library\n",
    "- Numerical Python 약자(numpy)\n",
    "- Python에서 수치계산을 위한 핵심 라이브러리\n",
    "- 'ndarray'(N-dimensional array) 클래스 지원"
   ]
  },
  {
   "cell_type": "code",
   "execution_count": 3,
   "id": "059941fe",
   "metadata": {},
   "outputs": [],
   "source": [
    "# import : 외부라이브러리 불러오기\n",
    "# alias(as) : 별칭 부여\n",
    "import numpy as np"
   ]
  },
  {
   "cell_type": "markdown",
   "id": "0106eef5",
   "metadata": {},
   "source": [
    "## ndarray(N-dimensional array)\n",
    "- 1. 다양한 수학함수 지원\n",
    "- 2. 빠른 연산속도\n",
    "- 3. 브로드캐스팅(차원을 동일시 하는 기능)\n",
    "- 4. 다차원의 배열지원(보통은 2차원까지 사용)\n",
    "\n",
    "- '동일한 자료형'을 가지는 값들이 '배열'형태로 존재함\n",
    "- 각 값들은 순서가 있다. -> index가 부여되어 있다"
   ]
  },
  {
   "cell_type": "markdown",
   "id": "4be08c5f",
   "metadata": {},
   "source": [
    "### 1.ndarray 생성하기\n",
    "- np.array(리스트 or 튜플)"
   ]
  },
  {
   "cell_type": "code",
   "execution_count": 4,
   "id": "c51864f5",
   "metadata": {},
   "outputs": [
    {
     "data": {
      "text/plain": [
       "array([1, 2, 3, 4, 5])"
      ]
     },
     "execution_count": 4,
     "metadata": {},
     "output_type": "execute_result"
    }
   ],
   "source": [
    "# ndarray 생성하기 >> 1차원 (1)\n",
    "# 리스트 데이터를 array화로 형변환 하는 방법\n",
    "\n",
    "#list 생성\n",
    "list1 = [1,2,3,4,5]\n",
    "\n",
    "# array 생성\n",
    "arr1 = np.array(list1)\n",
    "arr1"
   ]
  },
  {
   "cell_type": "code",
   "execution_count": 5,
   "id": "ea53a733",
   "metadata": {},
   "outputs": [
    {
     "data": {
      "text/plain": [
       "numpy.ndarray"
      ]
     },
     "execution_count": 5,
     "metadata": {},
     "output_type": "execute_result"
    }
   ],
   "source": [
    "type(arr1)"
   ]
  },
  {
   "cell_type": "code",
   "execution_count": 6,
   "id": "51f7e76b",
   "metadata": {},
   "outputs": [
    {
     "data": {
      "text/plain": [
       "array([2, 3, 4, 5, 6])"
      ]
     },
     "execution_count": 6,
     "metadata": {},
     "output_type": "execute_result"
    }
   ],
   "source": [
    "# ndarray 생성하기 >> 1차원 (2)\n",
    "# 직접 array화로 생성\n",
    "arr2 = np.array([2,3,4,5,6])\n",
    "arr2"
   ]
  },
  {
   "cell_type": "code",
   "execution_count": 7,
   "id": "5c02baf8",
   "metadata": {},
   "outputs": [
    {
     "data": {
      "text/plain": [
       "array([[1, 2, 3],\n",
       "       [4, 5, 6],\n",
       "       [7, 8, 9]])"
      ]
     },
     "execution_count": 7,
     "metadata": {},
     "output_type": "execute_result"
    }
   ],
   "source": [
    "# ndarray 생성하기 >> 2차원\n",
    "arr3 = np.array([[1,2,3],[4,5,6],[7,8,9]])\n",
    "arr3"
   ]
  },
  {
   "cell_type": "code",
   "execution_count": 8,
   "id": "f5146e75",
   "metadata": {},
   "outputs": [
    {
     "data": {
      "text/plain": [
       "[[1, 2, 3], [4, 5, 6], [7, 8, 9]]"
      ]
     },
     "execution_count": 8,
     "metadata": {},
     "output_type": "execute_result"
    }
   ],
   "source": [
    "# 2차원 형태의 리스트 >> ndarray와 차이가 있음\n",
    "# list는 차원수를 인식하지 못 함\n",
    "# ndarray는 차원수를 인식한다\n",
    "list2 = [[1,2,3],[4,5,6],[7,8,9]]\n",
    "list2"
   ]
  },
  {
   "cell_type": "markdown",
   "id": "fc5fc318",
   "metadata": {},
   "source": [
    "### 2.ndarray 확인하기 >> \"속성\" 이나 \"키워드\""
   ]
  },
  {
   "cell_type": "code",
   "execution_count": 10,
   "id": "4f5a73c6",
   "metadata": {},
   "outputs": [
    {
     "name": "stdout",
     "output_type": "stream",
     "text": [
      "1\n",
      "2\n"
     ]
    }
   ],
   "source": [
    "# array 차원 수 확인하기\n",
    "# array명.ndim\n",
    "\n",
    "print(arr1.ndim)\n",
    "print(arr3.ndim)"
   ]
  },
  {
   "cell_type": "code",
   "execution_count": 11,
   "id": "69e9a39e",
   "metadata": {},
   "outputs": [
    {
     "name": "stdout",
     "output_type": "stream",
     "text": [
      "(5,)\n",
      "(3, 3)\n"
     ]
    }
   ],
   "source": [
    "# array 모양(크기) 확인하기\n",
    "# array명.shape\n",
    "# (행, 열)\n",
    "\n",
    "print(arr1.shape) #1차원은 열의자리 생략\n",
    "print(arr3.shape)"
   ]
  },
  {
   "cell_type": "code",
   "execution_count": 13,
   "id": "0478138d",
   "metadata": {},
   "outputs": [
    {
     "name": "stdout",
     "output_type": "stream",
     "text": [
      "5\n",
      "5\n",
      "9\n",
      "3\n"
     ]
    }
   ],
   "source": [
    "# array의 전체요소개수 확인하기\n",
    "# array명.size\n",
    "\n",
    "print(arr1.size)\n",
    "print(len(arr1))\n",
    "print(arr3.size)\n",
    "print(len(arr3))"
   ]
  },
  {
   "cell_type": "code",
   "execution_count": 15,
   "id": "b517d93d",
   "metadata": {},
   "outputs": [],
   "source": [
    "def array_info(array) :\n",
    "    print(array)\n",
    "    print(\"ndim(차원수):\", array.ndim)\n",
    "    print(\"shape(모양):\", array.shape)\n",
    "    print(\"dtype(데이터타입):\", array.dtype)\n",
    "    print(\"size(요소 전체 갯수):\", array.size)"
   ]
  },
  {
   "cell_type": "code",
   "execution_count": 16,
   "id": "4c4aa153",
   "metadata": {},
   "outputs": [
    {
     "name": "stdout",
     "output_type": "stream",
     "text": [
      "[[1 2 3]\n",
      " [4 5 6]\n",
      " [7 8 9]]\n",
      "ndim(차원수): 2\n",
      "shape(모양): (3, 3)\n",
      "dtype(데이터타입): int32\n",
      "size(요소 전체 갯수): 9\n"
     ]
    }
   ],
   "source": [
    "array_info(arr3)"
   ]
  },
  {
   "cell_type": "markdown",
   "id": "5d927785",
   "metadata": {},
   "source": [
    "### 2-1 array dtype 및 shape 변경"
   ]
  },
  {
   "cell_type": "code",
   "execution_count": 17,
   "id": "4366c6f5",
   "metadata": {},
   "outputs": [
    {
     "name": "stdout",
     "output_type": "stream",
     "text": [
      "[[1.7 4.2 3.6]\n",
      " [4.1 2.9 5.8]]\n",
      "ndim(차원수): 2\n",
      "shape(모양): (2, 3)\n",
      "dtype(데이터타입): float64\n",
      "size(요소 전체 갯수): 6\n",
      "\n",
      "[[1 4 3]\n",
      " [4 2 5]]\n",
      "ndim(차원수): 2\n",
      "shape(모양): (2, 3)\n",
      "dtype(데이터타입): int64\n",
      "size(요소 전체 갯수): 6\n"
     ]
    }
   ],
   "source": [
    "# 데이터 타입 변경하기 1\n",
    "list3 = [[1.7,4.2,3.6],[4.1,2.9,5.8]]\n",
    "temp1 = np.array(list3)\n",
    "temp2 = np.array(list3, dtype = np.int64)\n",
    "\n",
    "array_info(temp1)\n",
    "print()\n",
    "array_info(temp2)"
   ]
  },
  {
   "cell_type": "code",
   "execution_count": 18,
   "id": "fa85a716",
   "metadata": {},
   "outputs": [
    {
     "name": "stdout",
     "output_type": "stream",
     "text": [
      "[[1. 4. 3.]\n",
      " [4. 2. 5.]]\n",
      "ndim(차원수): 2\n",
      "shape(모양): (2, 3)\n",
      "dtype(데이터타입): float64\n",
      "size(요소 전체 갯수): 6\n"
     ]
    }
   ],
   "source": [
    "# 데이터 타입 변경하기 2\n",
    "# .astype(np.데이터타입)\n",
    "# 버린 값을 다시 불러오기 XX\n",
    "\n",
    "temp2 = temp2.astype(np.float64)\n",
    "array_info(temp2)"
   ]
  },
  {
   "cell_type": "code",
   "execution_count": 21,
   "id": "c0d7d67a",
   "metadata": {},
   "outputs": [
    {
     "name": "stdout",
     "output_type": "stream",
     "text": [
      "[[1. 4.]\n",
      " [3. 4.]\n",
      " [2. 5.]]\n",
      "ndim(차원수): 2\n",
      "shape(모양): (3, 2)\n",
      "dtype(데이터타입): float64\n",
      "size(요소 전체 갯수): 6\n"
     ]
    }
   ],
   "source": [
    "# ndarray 특정 크기 변환\n",
    "# 2차원의 경우 행과 열의 값이 맞게 떨어져야 함\n",
    "# array명.reshape(행, 열)\n",
    "\n",
    "temp2 = temp2.reshape(3,2)\n",
    "array_info(temp2)"
   ]
  },
  {
   "cell_type": "markdown",
   "id": "fea8ba77",
   "metadata": {},
   "source": [
    "### 3. 특정한 값으로 ndarray 생성하기\n",
    "- np.zeros((행,열))  #튜플값\n",
    "- np.ones((행,열))\n",
    "- np.full((행,열), 값 )\n",
    "- np.arange(시작값, 끝값, 증감량)\n",
    "- np.random.rand(행,열)\n",
    "- np.random.randint(시작값, 끝값, size=(행,열))"
   ]
  },
  {
   "cell_type": "code",
   "execution_count": 22,
   "id": "c675046f",
   "metadata": {},
   "outputs": [
    {
     "data": {
      "text/plain": [
       "array([[0., 0., 0., 0.],\n",
       "       [0., 0., 0., 0.],\n",
       "       [0., 0., 0., 0.]])"
      ]
     },
     "execution_count": 22,
     "metadata": {},
     "output_type": "execute_result"
    }
   ],
   "source": [
    "# np.zeros((행,열)) : 모든 값을 0으로 초기화해서 선언\n",
    "# 기본 데이터형 : float\n",
    "\n",
    "arr_zeros = np.zeros((3,4))\n",
    "arr_zeros"
   ]
  },
  {
   "cell_type": "code",
   "execution_count": 23,
   "id": "78d8ef65",
   "metadata": {},
   "outputs": [
    {
     "data": {
      "text/plain": [
       "array([[1., 1., 1., 1.],\n",
       "       [1., 1., 1., 1.],\n",
       "       [1., 1., 1., 1.]])"
      ]
     },
     "execution_count": 23,
     "metadata": {},
     "output_type": "execute_result"
    }
   ],
   "source": [
    "# np.ones((행,열)) : 모든 값을 1로 초기화\n",
    "# 기본 데이터형 : float\n",
    "\n",
    "arr_ones = np.ones((3,4))\n",
    "arr_ones"
   ]
  },
  {
   "cell_type": "code",
   "execution_count": 27,
   "id": "19d2b82b",
   "metadata": {},
   "outputs": [
    {
     "data": {
      "text/plain": [
       "array([[10, 10, 10, 10],\n",
       "       [10, 10, 10, 10],\n",
       "       [10, 10, 10, 10]])"
      ]
     },
     "execution_count": 27,
     "metadata": {},
     "output_type": "execute_result"
    }
   ],
   "source": [
    "# np.full((행,열), 값 ) : 원하는 값으로 초기화\n",
    "# 기본데이터형 : 입력값\n",
    "\n",
    "arr_full = np.full((3,4), 10)\n",
    "arr_full\n",
    "\n",
    "#dtype='<U2  문자열 <U(문자길이)"
   ]
  },
  {
   "cell_type": "code",
   "execution_count": 46,
   "id": "7141ddde",
   "metadata": {},
   "outputs": [
    {
     "data": {
      "text/plain": [
       "array([[1, 7],\n",
       "       [7, 4],\n",
       "       [8, 8]])"
      ]
     },
     "execution_count": 46,
     "metadata": {},
     "output_type": "execute_result"
    }
   ],
   "source": [
    "# np.random.randint(시작값, 끝값, size=(행,열)) (size 생략시 1차원배열 생성)\n",
    "# 랜덤값으로 배열 생성(int)\n",
    "# 끝값 포함 X\n",
    "\n",
    "arr_randint = np.random.randint(1,10,size=(3,2))\n",
    "arr_randint"
   ]
  },
  {
   "cell_type": "code",
   "execution_count": 50,
   "id": "d105e6db",
   "metadata": {},
   "outputs": [
    {
     "data": {
      "text/plain": [
       "array([ 1,  2,  3,  4,  5,  6,  7,  8,  9, 10, 11, 12, 13, 14, 15, 16, 17,\n",
       "       18, 19, 20, 21, 22, 23, 24, 25, 26, 27, 28, 29, 30, 31, 32, 33, 34,\n",
       "       35, 36, 37, 38, 39, 40, 41, 42, 43, 44, 45, 46, 47, 48, 49, 50])"
      ]
     },
     "execution_count": 50,
     "metadata": {},
     "output_type": "execute_result"
    }
   ],
   "source": [
    "# 실습\n",
    "# 1부터 50이 담긴 1차원 array 생성(array 형변환으로 생성)\n",
    "# list 사용해서 생성\n",
    "\n",
    "#list4 = []\n",
    "#for i in range(1,51) :\n",
    "#    list4.append(i)\n",
    "\n",
    "#위의 내용 한줄로 작성시\n",
    "list4 = [i for i in range(1,51)]\n",
    "\n",
    "arr4 = np.array(list4)\n",
    "arr4"
   ]
  },
  {
   "cell_type": "code",
   "execution_count": 51,
   "id": "30d3f54c",
   "metadata": {},
   "outputs": [
    {
     "name": "stdout",
     "output_type": "stream",
     "text": [
      "[ 1  2  3  4  5  6  7  8  9 10 11 12 13 14 15 16 17 18 19 20 21 22 23 24\n",
      " 25 26 27 28 29 30 31 32 33 34 35 36 37 38 39 40 41 42 43 44 45 46 47 48\n",
      " 49 50]\n",
      "ndim(차원수): 1\n",
      "shape(모양): (50,)\n",
      "dtype(데이터타입): int32\n",
      "size(요소 전체 갯수): 50\n"
     ]
    }
   ],
   "source": [
    "# np.arange(시작값,끝값)\n",
    "# range() 함수처럼 범위 지정(끝값 포함X)\n",
    "# numpy에서 제공하는 함수\n",
    "\n",
    "arr2 = np.arange(1,51)\n",
    "array_info(arr2)"
   ]
  },
  {
   "cell_type": "markdown",
   "id": "d76e7b9a",
   "metadata": {},
   "source": [
    "### 4.array 연산(요소별 연산)\n",
    "- '요소별 연산'에 특화되어 있다\n",
    "- 브로드캐스팅 : 차원수를 자동으로 맞춰준다"
   ]
  },
  {
   "cell_type": "code",
   "execution_count": 53,
   "id": "46db24fb",
   "metadata": {},
   "outputs": [
    {
     "name": "stdout",
     "output_type": "stream",
     "text": [
      "[1, 2, 3, 4, 5, 6]\n",
      "5\n"
     ]
    }
   ],
   "source": [
    "# list의 연산방식 // array의 연산과 차이점을 확인하기\n",
    "list1 = [1,2,3]\n",
    "list2 = [4,5,6]\n",
    "\n",
    "#list + list\n",
    "print(list1+list2)\n",
    "\n",
    "# list 요소별 연산 >> 각각 값을 도출(인덱싱)해야 연산이 가능\n",
    "print(list1[0]+list2[0])"
   ]
  },
  {
   "cell_type": "code",
   "execution_count": 54,
   "id": "cc64f748",
   "metadata": {},
   "outputs": [
    {
     "name": "stdout",
     "output_type": "stream",
     "text": [
      "[5 7 9]\n"
     ]
    }
   ],
   "source": [
    "# np.array()의 연산\n",
    "\n",
    "arr_a = np.array(list1)\n",
    "arr_b = np.array(list2)\n",
    "\n",
    "# np.array + np.array\n",
    "print(arr_a+arr_b)"
   ]
  },
  {
   "cell_type": "code",
   "execution_count": 55,
   "id": "9877b05c",
   "metadata": {},
   "outputs": [
    {
     "name": "stdout",
     "output_type": "stream",
     "text": [
      "[[ 8 10 12]\n",
      " [14 16 18]]\n"
     ]
    }
   ],
   "source": [
    "arr2_a = np.array([[1,2,3],[4,5,6]])\n",
    "arr2_b = np.array([[7,8,9],[10,11,12]])\n",
    "\n",
    "print(arr2_a + arr2_b)"
   ]
  },
  {
   "cell_type": "code",
   "execution_count": 56,
   "id": "6b078769",
   "metadata": {},
   "outputs": [
    {
     "data": {
      "text/plain": [
       "array([[4, 5, 6],\n",
       "       [7, 8, 9]])"
      ]
     },
     "execution_count": 56,
     "metadata": {},
     "output_type": "execute_result"
    }
   ],
   "source": [
    "# 자동으로 인덱싱을 하여 요소들을 찾아가 연산을 수행한다\n",
    "arr2_a+3"
   ]
  },
  {
   "cell_type": "markdown",
   "id": "9a6b0680",
   "metadata": {},
   "source": [
    "### 5.array 인덱싱 & 슬라이싱\n",
    "- 인덱싱(Indexing) : 요소하나를 가리키는 것\n",
    "- 슬라이싱(Slicing) : 요소들을 잘라오는 것\n",
    "- 리스트 or 튜플 형과 같이 인덱싱, 슬라이싱 방법은 동일함"
   ]
  },
  {
   "cell_type": "code",
   "execution_count": 57,
   "id": "13ea01de",
   "metadata": {},
   "outputs": [
    {
     "name": "stdout",
     "output_type": "stream",
     "text": [
      "[0 1 2 3 4 5 6 7 8 9]\n"
     ]
    }
   ],
   "source": [
    "# 1차원 array 생성\n",
    "arr_1 = np.arange(0,10)\n",
    "print(arr_1)"
   ]
  },
  {
   "cell_type": "code",
   "execution_count": 58,
   "id": "c934459d",
   "metadata": {},
   "outputs": [
    {
     "name": "stdout",
     "output_type": "stream",
     "text": [
      "4\n",
      "[2 3 4]\n"
     ]
    }
   ],
   "source": [
    "# 인덱싱\n",
    "print(arr_1[4])\n",
    "\n",
    "# 슬라이싱\n",
    "print(arr_1[2:5])"
   ]
  },
  {
   "cell_type": "code",
   "execution_count": 61,
   "id": "ba0fe53a",
   "metadata": {
    "scrolled": true
   },
   "outputs": [
    {
     "name": "stdout",
     "output_type": "stream",
     "text": [
      "[0, 1, 2, 10]\n",
      "[ 0  1  2 10 10 10 10 10 10 10]\n"
     ]
    }
   ],
   "source": [
    "# 슬라이싱을 하고 한번에 데이터 넣기\n",
    "\n",
    "# 리스트는 슬라이싱하고 값을 수정하게 되면 범위 자체가 하나의 요소로 반환\n",
    "list1 = [0,1,2,3,4,5,6,7,8,9]\n",
    "list1[3:] = [10]\n",
    "print(list1)\n",
    "\n",
    "# array는 슬라이싱 된 요소들의 자리에 각각 하나씩 값을 넣는다\n",
    "arr_1[3:] = 10\n",
    "print(arr_1)"
   ]
  },
  {
   "cell_type": "markdown",
   "id": "ac29cc6f",
   "metadata": {},
   "source": [
    "#### 5-1 2차원 array 인덱싱& 슬라이싱\n",
    "- 인덱싱 : [행값, 열값]\n",
    "- 슬라이싱 : [행의 시작값:행의 끝값 , 열의 시작값:열의 끝값]"
   ]
  },
  {
   "cell_type": "code",
   "execution_count": 62,
   "id": "cb01c7dc",
   "metadata": {},
   "outputs": [
    {
     "data": {
      "text/plain": [
       "array([[ 1,  2,  3,  4,  5,  6,  7,  8,  9, 10],\n",
       "       [11, 12, 13, 14, 15, 16, 17, 18, 19, 20],\n",
       "       [21, 22, 23, 24, 25, 26, 27, 28, 29, 30],\n",
       "       [31, 32, 33, 34, 35, 36, 37, 38, 39, 40],\n",
       "       [41, 42, 43, 44, 45, 46, 47, 48, 49, 50]])"
      ]
     },
     "execution_count": 62,
     "metadata": {},
     "output_type": "execute_result"
    }
   ],
   "source": [
    "arr2 = np.arange(1,51).reshape(5,10)\n",
    "arr2"
   ]
  },
  {
   "cell_type": "code",
   "execution_count": 64,
   "id": "1e432c20",
   "metadata": {},
   "outputs": [
    {
     "data": {
      "text/plain": [
       "13"
      ]
     },
     "execution_count": 64,
     "metadata": {},
     "output_type": "execute_result"
    }
   ],
   "source": [
    "# 인덱싱 : [행값, 열값]\n",
    "# 튜플 인덱싱\n",
    "arr2[1,2]"
   ]
  },
  {
   "cell_type": "code",
   "execution_count": 65,
   "id": "fe4c0fe7",
   "metadata": {},
   "outputs": [
    {
     "data": {
      "text/plain": [
       "13"
      ]
     },
     "execution_count": 65,
     "metadata": {},
     "output_type": "execute_result"
    }
   ],
   "source": [
    "# 인덱싱 : [행값, 열값]\n",
    "# 두 번 연산 진행(일반 인덱싱)\n",
    "arr2[1][2]"
   ]
  },
  {
   "cell_type": "code",
   "execution_count": 68,
   "id": "d95588d0",
   "metadata": {},
   "outputs": [
    {
     "data": {
      "text/plain": [
       "array([[21, 22, 23, 24, 25, 26, 27, 28, 29],\n",
       "       [31, 32, 33, 34, 35, 36, 37, 38, 39],\n",
       "       [41, 42, 43, 44, 45, 46, 47, 48, 49]])"
      ]
     },
     "execution_count": 68,
     "metadata": {},
     "output_type": "execute_result"
    }
   ],
   "source": [
    "# 2차원 array 슬라이싱\n",
    "# array[행 시작값: 행 끝값,{ 열 시작값 : 열 끝값 }]  {} >> 생략가능\n",
    "# 시작값이나 끝값을 생략시 일반인덱싱으로 정상적인 출력 불가능\n",
    "arr2[2:,:9]"
   ]
  },
  {
   "cell_type": "code",
   "execution_count": 80,
   "id": "bd602703",
   "metadata": {},
   "outputs": [
    {
     "data": {
      "text/plain": [
       "array([ 1, 11, 21, 31, 41])"
      ]
     },
     "execution_count": 80,
     "metadata": {},
     "output_type": "execute_result"
    }
   ],
   "source": [
    "arr2[:,0]"
   ]
  },
  {
   "cell_type": "code",
   "execution_count": 71,
   "id": "fdafd9b2",
   "metadata": {},
   "outputs": [
    {
     "data": {
      "text/plain": [
       "array([[ 1,  2,  3,  4,  5],\n",
       "       [11, 12, 13, 14, 15],\n",
       "       [21, 22, 23, 24, 25],\n",
       "       [31, 32, 33, 34, 35]])"
      ]
     },
     "execution_count": 71,
     "metadata": {},
     "output_type": "execute_result"
    }
   ],
   "source": [
    "arr2[:4,:5]"
   ]
  }
 ],
 "metadata": {
  "kernelspec": {
   "display_name": "Python 3 (ipykernel)",
   "language": "python",
   "name": "python3"
  },
  "language_info": {
   "codemirror_mode": {
    "name": "ipython",
    "version": 3
   },
   "file_extension": ".py",
   "mimetype": "text/x-python",
   "name": "python",
   "nbconvert_exporter": "python",
   "pygments_lexer": "ipython3",
   "version": "3.11.3"
  }
 },
 "nbformat": 4,
 "nbformat_minor": 5
}

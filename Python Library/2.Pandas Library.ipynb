{
 "cells": [
  {
   "cell_type": "markdown",
   "id": "dc638e79",
   "metadata": {},
   "source": [
    "## 1. pandas\n",
    "- pannel data 의 약자\n",
    "- 1. 다양한 파일 형식 지원 가능 >> csv, excel, sql, json 등등\n",
    "- 2. 데이터 정제 및 조작 특화 라이브러리\n",
    "- 3. DataFrame과 Series는 기본적으로 np.array(ndarray) 구조\n",
    "    - numpy 라이브러리 호환성이 높음\n",
    "    "
   ]
  },
  {
   "cell_type": "markdown",
   "id": "df452ff5",
   "metadata": {},
   "source": [
    "### pandas에서 제공하는 데이터 구조\n",
    "- Series : 1차원 배열 형태의 데이터 구조\n",
    "    - index + value\n",
    "    \n",
    "- DataFrame : 2차원 배열 형태의 데이터 구조\n",
    "    - Series들의 모음\n",
    "    - column(열) + row(행) 구조\n",
    "    - 서로 다른 자료형을 저장하여 활용 할 수 있다\n",
    "    \n",
    "- 궁극적인 목적은 '데이터분석'"
   ]
  },
  {
   "cell_type": "code",
   "execution_count": 1,
   "id": "fdd57935",
   "metadata": {},
   "outputs": [],
   "source": [
    "import numpy as np\n",
    "import pandas as pd"
   ]
  },
  {
   "cell_type": "markdown",
   "id": "e8853149",
   "metadata": {},
   "source": [
    "### Series"
   ]
  },
  {
   "cell_type": "code",
   "execution_count": 5,
   "id": "92793595",
   "metadata": {},
   "outputs": [
    {
     "name": "stdout",
     "output_type": "stream",
     "text": [
      "0    9668465\n",
      "1    3391946\n",
      "2    2942828\n",
      "3    1450062\n",
      "dtype: int64\n",
      "\n",
      "서울    9668465\n",
      "부산    3391946\n",
      "인천    2942828\n",
      "광주    1450062\n",
      "dtype: int64\n"
     ]
    }
   ],
   "source": [
    "# Series 생성\n",
    "pop = pd.Series([9668465,3391946,2942828,1450062])\n",
    "print(pop, end='\\n\\n')\n",
    "\n",
    "# index 명 생성하기\n",
    "# pd.Series([시퀀스], index = ['인덱스명1','인덱스명2', .....])\n",
    "pop = pd.Series([9668465,3391946,2942828,1450062], \n",
    "                index=['서울','부산','인천','광주'])\n",
    "print(pop)"
   ]
  },
  {
   "cell_type": "code",
   "execution_count": 7,
   "id": "f9a95012",
   "metadata": {},
   "outputs": [
    {
     "name": "stdout",
     "output_type": "stream",
     "text": [
      "9668465\n",
      "9668465\n"
     ]
    }
   ],
   "source": [
    "print(pop['서울'])\n",
    "print(pop[0])"
   ]
  },
  {
   "cell_type": "code",
   "execution_count": null,
   "id": "a03c835f",
   "metadata": {},
   "outputs": [],
   "source": []
  },
  {
   "cell_type": "code",
   "execution_count": null,
   "id": "e2a6ff97",
   "metadata": {},
   "outputs": [],
   "source": []
  },
  {
   "cell_type": "code",
   "execution_count": null,
   "id": "35769119",
   "metadata": {},
   "outputs": [],
   "source": []
  },
  {
   "cell_type": "code",
   "execution_count": null,
   "id": "ff73947b",
   "metadata": {},
   "outputs": [],
   "source": []
  },
  {
   "cell_type": "code",
   "execution_count": null,
   "id": "eb3c6bfd",
   "metadata": {},
   "outputs": [],
   "source": []
  },
  {
   "cell_type": "code",
   "execution_count": null,
   "id": "44baceb5",
   "metadata": {},
   "outputs": [],
   "source": []
  }
 ],
 "metadata": {
  "kernelspec": {
   "display_name": "Python 3 (ipykernel)",
   "language": "python",
   "name": "python3"
  },
  "language_info": {
   "codemirror_mode": {
    "name": "ipython",
    "version": 3
   },
   "file_extension": ".py",
   "mimetype": "text/x-python",
   "name": "python",
   "nbconvert_exporter": "python",
   "pygments_lexer": "ipython3",
   "version": "3.11.3"
  }
 },
 "nbformat": 4,
 "nbformat_minor": 5
}

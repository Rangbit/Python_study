{
 "cells": [
  {
   "cell_type": "markdown",
   "id": "dc638e79",
   "metadata": {},
   "source": [
    "## 1. pandas\n",
    "- pannel data 의 약자\n",
    "- 1. 다양한 파일 형식 지원 가능 >> csv, excel, sql, json 등등\n",
    "- 2. 데이터 정제 및 조작 특화 라이브러리\n",
    "- 3. DataFrame과 Series는 기본적으로 np.array(ndarray) 구조\n",
    "    - numpy 라이브러리 호환성이 높음\n",
    "    "
   ]
  },
  {
   "cell_type": "markdown",
   "id": "df452ff5",
   "metadata": {},
   "source": [
    "### pandas에서 제공하는 데이터 구조\n",
    "- Series : 1차원 배열 형태의 데이터 구조\n",
    "    - index + value\n",
    "    \n",
    "- DataFrame : 2차원 배열 형태의 데이터 구조\n",
    "    - Series들의 모음\n",
    "    - column(열) + row(행) 구조\n",
    "    - 서로 다른 자료형을 저장하여 활용 할 수 있다\n",
    "    \n",
    "- 궁극적인 목적은 '데이터분석'"
   ]
  },
  {
   "cell_type": "code",
   "execution_count": 3,
   "id": "fdd57935",
   "metadata": {},
   "outputs": [],
   "source": [
    "import numpy as np\n",
    "import pandas as pd"
   ]
  },
  {
   "cell_type": "markdown",
   "id": "e8853149",
   "metadata": {},
   "source": [
    "### Series"
   ]
  },
  {
   "cell_type": "code",
   "execution_count": 4,
   "id": "92793595",
   "metadata": {},
   "outputs": [
    {
     "name": "stdout",
     "output_type": "stream",
     "text": [
      "0    9668465\n",
      "1    3391946\n",
      "2    2942828\n",
      "3    1450062\n",
      "dtype: int64\n",
      "\n",
      "서울    9668465\n",
      "부산    3391946\n",
      "인천    2942828\n",
      "광주    1450062\n",
      "dtype: int64\n"
     ]
    }
   ],
   "source": [
    "# Series 생성\n",
    "pop = pd.Series([9668465,3391946,2942828,1450062])\n",
    "print(pop, end='\\n\\n')\n",
    "\n",
    "# index 명 생성하기\n",
    "# pd.Series([시퀀스], index = ['인덱스명1','인덱스명2', .....])\n",
    "pop = pd.Series([9668465,3391946,2942828,1450062], \n",
    "                index=['서울','부산','인천','광주'])\n",
    "print(pop)"
   ]
  },
  {
   "cell_type": "code",
   "execution_count": 14,
   "id": "f9a95012",
   "metadata": {
    "scrolled": false
   },
   "outputs": [
    {
     "name": "stdout",
     "output_type": "stream",
     "text": [
      "9668465\n",
      "9668465\n"
     ]
    }
   ],
   "source": [
    "print(pop['서울'])\n",
    "print(pop[0])"
   ]
  },
  {
   "cell_type": "code",
   "execution_count": 6,
   "id": "a03c835f",
   "metadata": {},
   "outputs": [
    {
     "data": {
      "text/plain": [
       "Index(['서울', '부산', '인천', '광주'], dtype='object')"
      ]
     },
     "execution_count": 6,
     "metadata": {},
     "output_type": "execute_result"
    }
   ],
   "source": [
    "#Series index 확인\n",
    "pop.index"
   ]
  },
  {
   "cell_type": "code",
   "execution_count": 8,
   "id": "e2a6ff97",
   "metadata": {},
   "outputs": [
    {
     "name": "stdout",
     "output_type": "stream",
     "text": [
      "int64\n",
      "<class 'pandas.core.series.Series'>\n"
     ]
    }
   ],
   "source": [
    "#Series 데이터 타입 확인\n",
    "print(pop.dtype) #요소들의 타입 확인\n",
    "print(type(pop)) #Series 타입 확인"
   ]
  },
  {
   "cell_type": "code",
   "execution_count": 26,
   "id": "35769119",
   "metadata": {},
   "outputs": [],
   "source": [
    "# Series에 이름 지정\n",
    "# Series에 큰 타이틀 이름 지정\n",
    "\n",
    "pop.name = '인구'\n",
    "pop.index.name = '지역'"
   ]
  },
  {
   "cell_type": "code",
   "execution_count": 10,
   "id": "ff73947b",
   "metadata": {},
   "outputs": [
    {
     "data": {
      "text/plain": [
       "서울    9668465\n",
       "부산    3391946\n",
       "인천    2942828\n",
       "광주    1450062\n",
       "Name: 인구, dtype: int64"
      ]
     },
     "execution_count": 10,
     "metadata": {},
     "output_type": "execute_result"
    }
   ],
   "source": [
    "pop"
   ]
  },
  {
   "cell_type": "code",
   "execution_count": 11,
   "id": "eb3c6bfd",
   "metadata": {},
   "outputs": [
    {
     "data": {
      "text/plain": [
       "서울    9.668465\n",
       "부산    3.391946\n",
       "인천    2.942828\n",
       "광주    1.450062\n",
       "Name: 인구, dtype: float64"
      ]
     },
     "execution_count": 11,
     "metadata": {},
     "output_type": "execute_result"
    }
   ],
   "source": [
    "#Series 연산\n",
    "pop / 1000000"
   ]
  },
  {
   "cell_type": "code",
   "execution_count": 18,
   "id": "44baceb5",
   "metadata": {},
   "outputs": [
    {
     "name": "stdout",
     "output_type": "stream",
     "text": [
      "3391946\n",
      "3391946\n",
      "서울    9668465\n",
      "광주    1450062\n",
      "부산    3391946\n",
      "Name: 인구, dtype: int64\n",
      "서울    9668465\n",
      "광주    1450062\n",
      "부산    3391946\n",
      "Name: 인구, dtype: int64\n"
     ]
    }
   ],
   "source": [
    "print(pop[1]) # 정수 인덱싱\n",
    "print(pop['부산']) # index 별명 인덱싱\n",
    "print(pop[[0,3,1]]) # 다중 인덱싱(정수)\n",
    "print(pop[['서울', '광주', '부산']]) # 다중 인덱싱 (index 별명)"
   ]
  },
  {
   "cell_type": "markdown",
   "id": "f65ecef3",
   "metadata": {},
   "source": [
    "### 'iloc' 와 ' loc'속성\n",
    "- iloc : integer location(정수 위치) >> '행번호'를 가지고 값을 인덱싱/슬라이싱 하는 방법\n",
    "- loc : location(위치) >> 'index 별명'을 가지고 값을 인덱싱/슬라이싱 하는 방법"
   ]
  },
  {
   "cell_type": "code",
   "execution_count": 19,
   "id": "c5e694c9",
   "metadata": {},
   "outputs": [
    {
     "name": "stdout",
     "output_type": "stream",
     "text": [
      "9668465\n",
      "서울    9668465\n",
      "부산    3391946\n",
      "Name: 인구, dtype: int64\n"
     ]
    }
   ],
   "source": [
    "print(pop.iloc[0]) # iloc 인덱싱\n",
    "print(pop.iloc[0:2]) # iloc 슬라이싱"
   ]
  },
  {
   "cell_type": "code",
   "execution_count": 21,
   "id": "4c6eae6d",
   "metadata": {},
   "outputs": [
    {
     "name": "stdout",
     "output_type": "stream",
     "text": [
      "9668465\n",
      "서울    9668465\n",
      "부산    3391946\n",
      "Name: 인구, dtype: int64\n"
     ]
    }
   ],
   "source": [
    "print(pop.loc['서울']) # loc 인덱싱\n",
    "print(pop.loc['서울' : '부산']) # loc 슬라이싱 (끝값을 포함)"
   ]
  },
  {
   "cell_type": "markdown",
   "id": "a7d997e8",
   "metadata": {},
   "source": [
    "### Series boolean indexing\n",
    "- 특정 조건을 만족하는 값들의 인덱싱\n",
    "- Series[boolean mask]"
   ]
  },
  {
   "cell_type": "code",
   "execution_count": 27,
   "id": "63961843",
   "metadata": {},
   "outputs": [
    {
     "data": {
      "text/plain": [
       "지역\n",
       "서울    9668465\n",
       "부산    3391946\n",
       "인천    2942828\n",
       "Name: 인구, dtype: int64"
      ]
     },
     "execution_count": 27,
     "metadata": {},
     "output_type": "execute_result"
    }
   ],
   "source": [
    "pop[pop >= 2500000]"
   ]
  },
  {
   "cell_type": "markdown",
   "id": "fa5b117a",
   "metadata": {},
   "source": [
    "## Series Boolean indexing,연산실습\n",
    "- average monthly wage : 월 평균임금\n",
    "- average daily wage : 일 평균임금"
   ]
  },
  {
   "cell_type": "code",
   "execution_count": 30,
   "id": "3ac13bda",
   "metadata": {},
   "outputs": [
    {
     "data": {
      "text/plain": [
       "IT기획자      8644000\n",
       "데이터분석가     7158000\n",
       "응용SW개발자    6426000\n",
       "IT품질관리자    8294000\n",
       "dtype: int64"
      ]
     },
     "execution_count": 30,
     "metadata": {},
     "output_type": "execute_result"
    }
   ],
   "source": [
    "data = {'IT기획자':8644000, '데이터분석가':7158000,\n",
    "       '응용SW개발자':6426000, 'IT품질관리자':8294000}\n",
    "\n",
    "# 딕셔너리 자료형을 Series로 변환\n",
    "sw_M_wage = pd.Series(data)\n",
    "sw_M_wage"
   ]
  },
  {
   "cell_type": "code",
   "execution_count": 31,
   "id": "7866fe33",
   "metadata": {},
   "outputs": [
    {
     "data": {
      "text/plain": [
       "IT기획자        9543000\n",
       "데이터분석가      11226000\n",
       "시스템SW개발자     5100000\n",
       "IT마케터        7801000\n",
       "dtype: int64"
      ]
     },
     "execution_count": 31,
     "metadata": {},
     "output_type": "execute_result"
    }
   ],
   "source": [
    "data2 = {'IT기획자':9543000, '데이터분석가':11226000,\n",
    "       '시스템SW개발자':5100000, 'IT마케터':7801000}\n",
    "sw_M_wage2 = pd.Series(data2)\n",
    "sw_M_wage2"
   ]
  },
  {
   "cell_type": "code",
   "execution_count": 35,
   "id": "5e796d9e",
   "metadata": {},
   "outputs": [
    {
     "data": {
      "text/plain": [
       "IT기획자      375826\n",
       "데이터분석가     311217\n",
       "응용SW개발자    279391\n",
       "IT품질관리자    360608\n",
       "dtype: int32"
      ]
     },
     "execution_count": 35,
     "metadata": {},
     "output_type": "execute_result"
    }
   ],
   "source": [
    "# 일평균임금 계산\n",
    "# 실제 계산시 3개월간의 총 임금을 그 기간의 총 일수로 나눠서 산정\n",
    "\n",
    "sw_D_wage = (sw_M_wage/23).astype(int)\n",
    "sw_D_wage"
   ]
  },
  {
   "cell_type": "code",
   "execution_count": 37,
   "id": "8f9e85fb",
   "metadata": {
    "scrolled": true
   },
   "outputs": [
    {
     "data": {
      "text/plain": [
       "IT기획자        899000.0\n",
       "IT마케터             NaN\n",
       "IT품질관리자           NaN\n",
       "데이터분석가      4068000.0\n",
       "시스템SW개발자          NaN\n",
       "응용SW개발자           NaN\n",
       "dtype: float64"
      ]
     },
     "execution_count": 37,
     "metadata": {},
     "output_type": "execute_result"
    }
   ],
   "source": [
    "# 두 회사의 차이를 비교하기 위해 연산 실행\n",
    "# Series끼리의 연산(가능하나, inner join으로만 나오게 된다.)\n",
    "# NaN : 결측치(비어있는 값)\n",
    "\n",
    "wage_minus = sw_M_wage2 - sw_M_wage\n",
    "wage_minus"
   ]
  },
  {
   "cell_type": "code",
   "execution_count": 40,
   "id": "dd70eaf3",
   "metadata": {},
   "outputs": [
    {
     "data": {
      "text/plain": [
       "IT기획자      899000\n",
       "데이터분석가    4068000\n",
       "dtype: int32"
      ]
     },
     "execution_count": 40,
     "metadata": {},
     "output_type": "execute_result"
    }
   ],
   "source": [
    "# 비어있지 않는 데이터만 보는 경우\n",
    "# notnull()\n",
    "\n",
    "wage_minus[wage_minus.notnull()].astype(int)"
   ]
  },
  {
   "cell_type": "code",
   "execution_count": 41,
   "id": "b176bc3e",
   "metadata": {},
   "outputs": [
    {
     "data": {
      "text/plain": [
       "IT마케터      NaN\n",
       "IT품질관리자    NaN\n",
       "시스템SW개발자   NaN\n",
       "응용SW개발자    NaN\n",
       "dtype: float64"
      ]
     },
     "execution_count": 41,
     "metadata": {},
     "output_type": "execute_result"
    }
   ],
   "source": [
    "# 비어있는 데이터만 보는 경우\n",
    "# isnull()\n",
    "\n",
    "wage_minus[wage_minus.isnull()]"
   ]
  },
  {
   "cell_type": "markdown",
   "id": "077c3021",
   "metadata": {},
   "source": [
    "### Series 데이터 추가, 수정, 삭제"
   ]
  },
  {
   "cell_type": "code",
   "execution_count": 46,
   "id": "c4d27824",
   "metadata": {},
   "outputs": [
    {
     "name": "stdout",
     "output_type": "stream",
     "text": [
      "IT기획자        9543000\n",
      "데이터분석가      11226000\n",
      "시스템SW개발자     5100000\n",
      "IT마케터        7801000\n",
      "dtype: int64\n"
     ]
    }
   ],
   "source": [
    "# 수정\n",
    "print(sw_M_wage2)"
   ]
  },
  {
   "cell_type": "code",
   "execution_count": 51,
   "id": "e2f55558",
   "metadata": {},
   "outputs": [
    {
     "data": {
      "text/plain": [
       "IT기획자       97420000\n",
       "데이터분석가      11226000\n",
       "시스템SW개발자     5100000\n",
       "IT마케터        7801000\n",
       "IT 기획자      97420000\n",
       "dtype: int64"
      ]
     },
     "execution_count": 51,
     "metadata": {},
     "output_type": "execute_result"
    }
   ],
   "source": [
    "sw_M_wage2['IT기획자'] = 97420000\n",
    "sw_M_wage2"
   ]
  },
  {
   "cell_type": "code",
   "execution_count": 54,
   "id": "6ec2d3e8",
   "metadata": {},
   "outputs": [
    {
     "data": {
      "text/plain": [
       "IT기획자       97420000\n",
       "데이터분석가      11226000\n",
       "시스템SW개발자     5100000\n",
       "IT마케터        7801000\n",
       "IT컨설턴트       9805000\n",
       "dtype: int64"
      ]
     },
     "execution_count": 54,
     "metadata": {},
     "output_type": "execute_result"
    }
   ],
   "source": [
    "# 추가\n",
    "sw_M_wage2['IT컨설턴트'] = 9805000\n",
    "sw_M_wage2"
   ]
  },
  {
   "cell_type": "code",
   "execution_count": 55,
   "id": "91ee5983",
   "metadata": {},
   "outputs": [],
   "source": [
    "# 삭제\n",
    "del sw_M_wage2['시스템SW개발자']"
   ]
  },
  {
   "cell_type": "code",
   "execution_count": 56,
   "id": "7ed7f269",
   "metadata": {},
   "outputs": [
    {
     "data": {
      "text/plain": [
       "IT기획자     97420000\n",
       "데이터분석가    11226000\n",
       "IT마케터      7801000\n",
       "IT컨설턴트     9805000\n",
       "dtype: int64"
      ]
     },
     "execution_count": 56,
     "metadata": {},
     "output_type": "execute_result"
    }
   ],
   "source": [
    "sw_M_wage2"
   ]
  },
  {
   "cell_type": "markdown",
   "id": "8df8a173",
   "metadata": {},
   "source": [
    "## 2.DataFrame\n",
    "- 2차원 데이터에서 사용되는 자료구조\n",
    "- excel, CSV, DB, API 등등 불러오되, 다시 재구성해야 함"
   ]
  },
  {
   "cell_type": "code",
   "execution_count": 91,
   "id": "6d774f9d",
   "metadata": {},
   "outputs": [
    {
     "data": {
      "text/plain": [
       "{'ITPM': [463, 9543, 57],\n",
       " '업무분석가': [544, 11226, 68],\n",
       " 'IT아키텍트': [518, 10672, 64],\n",
       " 'UIUX개발자': [291, 6003, 36]}"
      ]
     },
     "execution_count": 91,
     "metadata": {},
     "output_type": "execute_result"
    }
   ],
   "source": [
    "# 첫번쨰 방법 : 딕셔너리를 통한 컬럼 단위로 생성\n",
    "\n",
    "data = {'ITPM':[463,9543,57],\n",
    "        '업무분석가':[544,11226,68],\n",
    "       'IT아키텍트':[518,10672,64],\n",
    "       'UIUX개발자':[291,6003,36]}\n",
    "data"
   ]
  },
  {
   "cell_type": "code",
   "execution_count": 92,
   "id": "9af32237",
   "metadata": {},
   "outputs": [
    {
     "data": {
      "text/html": [
       "<div>\n",
       "<style scoped>\n",
       "    .dataframe tbody tr th:only-of-type {\n",
       "        vertical-align: middle;\n",
       "    }\n",
       "\n",
       "    .dataframe tbody tr th {\n",
       "        vertical-align: top;\n",
       "    }\n",
       "\n",
       "    .dataframe thead th {\n",
       "        text-align: right;\n",
       "    }\n",
       "</style>\n",
       "<table border=\"1\" class=\"dataframe\">\n",
       "  <thead>\n",
       "    <tr style=\"text-align: right;\">\n",
       "      <th></th>\n",
       "      <th>ITPM</th>\n",
       "      <th>업무분석가</th>\n",
       "      <th>IT아키텍트</th>\n",
       "      <th>UIUX개발자</th>\n",
       "    </tr>\n",
       "  </thead>\n",
       "  <tbody>\n",
       "    <tr>\n",
       "      <th>0</th>\n",
       "      <td>463</td>\n",
       "      <td>544</td>\n",
       "      <td>518</td>\n",
       "      <td>291</td>\n",
       "    </tr>\n",
       "    <tr>\n",
       "      <th>1</th>\n",
       "      <td>9543</td>\n",
       "      <td>11226</td>\n",
       "      <td>10672</td>\n",
       "      <td>6003</td>\n",
       "    </tr>\n",
       "    <tr>\n",
       "      <th>2</th>\n",
       "      <td>57</td>\n",
       "      <td>68</td>\n",
       "      <td>64</td>\n",
       "      <td>36</td>\n",
       "    </tr>\n",
       "  </tbody>\n",
       "</table>\n",
       "</div>"
      ],
      "text/plain": [
       "   ITPM  업무분석가  IT아키텍트  UIUX개발자\n",
       "0   463    544     518      291\n",
       "1  9543  11226   10672     6003\n",
       "2    57     68      64       36"
      ]
     },
     "execution_count": 92,
     "metadata": {},
     "output_type": "execute_result"
    }
   ],
   "source": [
    "# DataFrame화\n",
    "df = pd.DataFrame(data)\n",
    "df"
   ]
  },
  {
   "cell_type": "code",
   "execution_count": 93,
   "id": "3154072b",
   "metadata": {},
   "outputs": [
    {
     "data": {
      "text/html": [
       "<div>\n",
       "<style scoped>\n",
       "    .dataframe tbody tr th:only-of-type {\n",
       "        vertical-align: middle;\n",
       "    }\n",
       "\n",
       "    .dataframe tbody tr th {\n",
       "        vertical-align: top;\n",
       "    }\n",
       "\n",
       "    .dataframe thead th {\n",
       "        text-align: right;\n",
       "    }\n",
       "</style>\n",
       "<table border=\"1\" class=\"dataframe\">\n",
       "  <thead>\n",
       "    <tr style=\"text-align: right;\">\n",
       "      <th></th>\n",
       "      <th>ITPM</th>\n",
       "      <th>업무분석가</th>\n",
       "      <th>IT아키텍트</th>\n",
       "      <th>UIUX개발자</th>\n",
       "    </tr>\n",
       "  </thead>\n",
       "  <tbody>\n",
       "    <tr>\n",
       "      <th>일 평균임금</th>\n",
       "      <td>463</td>\n",
       "      <td>544</td>\n",
       "      <td>518</td>\n",
       "      <td>291</td>\n",
       "    </tr>\n",
       "    <tr>\n",
       "      <th>월 평균임금</th>\n",
       "      <td>9543</td>\n",
       "      <td>11226</td>\n",
       "      <td>10672</td>\n",
       "      <td>6003</td>\n",
       "    </tr>\n",
       "    <tr>\n",
       "      <th>시간 평균임금</th>\n",
       "      <td>57</td>\n",
       "      <td>68</td>\n",
       "      <td>64</td>\n",
       "      <td>36</td>\n",
       "    </tr>\n",
       "  </tbody>\n",
       "</table>\n",
       "</div>"
      ],
      "text/plain": [
       "         ITPM  업무분석가  IT아키텍트  UIUX개발자\n",
       "일 평균임금    463    544     518      291\n",
       "월 평균임금   9543  11226   10672     6003\n",
       "시간 평균임금    57     68      64       36"
      ]
     },
     "execution_count": 93,
     "metadata": {},
     "output_type": "execute_result"
    }
   ],
   "source": [
    "# DataFrame index 별명 수정\n",
    "df.index = ['일 평균임금', '월 평균임금', '시간 평균임금']\n",
    "df"
   ]
  },
  {
   "cell_type": "code",
   "execution_count": 94,
   "id": "621e423c",
   "metadata": {},
   "outputs": [
    {
     "data": {
      "text/html": [
       "<div>\n",
       "<style scoped>\n",
       "    .dataframe tbody tr th:only-of-type {\n",
       "        vertical-align: middle;\n",
       "    }\n",
       "\n",
       "    .dataframe tbody tr th {\n",
       "        vertical-align: top;\n",
       "    }\n",
       "\n",
       "    .dataframe thead th {\n",
       "        text-align: right;\n",
       "    }\n",
       "</style>\n",
       "<table border=\"1\" class=\"dataframe\">\n",
       "  <thead>\n",
       "    <tr style=\"text-align: right;\">\n",
       "      <th></th>\n",
       "      <th>ITPM</th>\n",
       "      <th>업무분석가</th>\n",
       "      <th>IT아키텍트</th>\n",
       "      <th>UIUX개발자</th>\n",
       "    </tr>\n",
       "  </thead>\n",
       "  <tbody>\n",
       "    <tr>\n",
       "      <th>일 평균임금</th>\n",
       "      <td>463</td>\n",
       "      <td>544</td>\n",
       "      <td>518</td>\n",
       "      <td>291</td>\n",
       "    </tr>\n",
       "    <tr>\n",
       "      <th>월 평균임금</th>\n",
       "      <td>9543</td>\n",
       "      <td>11226</td>\n",
       "      <td>10672</td>\n",
       "      <td>6003</td>\n",
       "    </tr>\n",
       "    <tr>\n",
       "      <th>시간 평균임금</th>\n",
       "      <td>57</td>\n",
       "      <td>68</td>\n",
       "      <td>64</td>\n",
       "      <td>36</td>\n",
       "    </tr>\n",
       "  </tbody>\n",
       "</table>\n",
       "</div>"
      ],
      "text/plain": [
       "         ITPM  업무분석가  IT아키텍트  UIUX개발자\n",
       "일 평균임금    463    544     518      291\n",
       "월 평균임금   9543  11226   10672     6003\n",
       "시간 평균임금    57     68      64       36"
      ]
     },
     "execution_count": 94,
     "metadata": {},
     "output_type": "execute_result"
    }
   ],
   "source": [
    "# Data Frame화\n",
    "df1 = pd.DataFrame(data, index = ['일 평균임금', '월 평균임금', '시간 평균임금'])\n",
    "df1"
   ]
  },
  {
   "cell_type": "code",
   "execution_count": 99,
   "id": "d3850ecc",
   "metadata": {},
   "outputs": [
    {
     "data": {
      "text/html": [
       "<div>\n",
       "<style scoped>\n",
       "    .dataframe tbody tr th:only-of-type {\n",
       "        vertical-align: middle;\n",
       "    }\n",
       "\n",
       "    .dataframe tbody tr th {\n",
       "        vertical-align: top;\n",
       "    }\n",
       "\n",
       "    .dataframe thead th {\n",
       "        text-align: right;\n",
       "    }\n",
       "</style>\n",
       "<table border=\"1\" class=\"dataframe\">\n",
       "  <thead>\n",
       "    <tr style=\"text-align: right;\">\n",
       "      <th></th>\n",
       "      <th>일 평균임금</th>\n",
       "      <th>월 평균임금</th>\n",
       "      <th>시간 평균임금</th>\n",
       "    </tr>\n",
       "  </thead>\n",
       "  <tbody>\n",
       "    <tr>\n",
       "      <th>ITPM</th>\n",
       "      <td>463</td>\n",
       "      <td>9543</td>\n",
       "      <td>57</td>\n",
       "    </tr>\n",
       "    <tr>\n",
       "      <th>업무분석가</th>\n",
       "      <td>544</td>\n",
       "      <td>11226</td>\n",
       "      <td>68</td>\n",
       "    </tr>\n",
       "    <tr>\n",
       "      <th>IT아키텍트</th>\n",
       "      <td>518</td>\n",
       "      <td>10672</td>\n",
       "      <td>64</td>\n",
       "    </tr>\n",
       "    <tr>\n",
       "      <th>UXUI개발자</th>\n",
       "      <td>291</td>\n",
       "      <td>6003</td>\n",
       "      <td>36</td>\n",
       "    </tr>\n",
       "  </tbody>\n",
       "</table>\n",
       "</div>"
      ],
      "text/plain": [
       "         일 평균임금  월 평균임금  시간 평균임금\n",
       "ITPM        463    9543       57\n",
       "업무분석가       544   11226       68\n",
       "IT아키텍트      518   10672       64\n",
       "UXUI개발자     291    6003       36"
      ]
     },
     "execution_count": 99,
     "metadata": {},
     "output_type": "execute_result"
    }
   ],
   "source": [
    "# 두번째 방법 : raw단위로 list 활용\n",
    "\n",
    "data2 = [[463,9543,57],\n",
    "         [544,11226,68],\n",
    "         [518,10672,64],\n",
    "         [291,6003,36]]\n",
    "\n",
    "columns = ['일 평균임금', '월 평균임금', '시간 평균임금']\n",
    "raw = ['ITPM', '업무분석가', 'IT아키텍트', 'UXUI개발자']\n",
    "df2 = pd.DataFrame(data2, index=raw, columns = columns)\n",
    "df2"
   ]
  },
  {
   "cell_type": "code",
   "execution_count": 100,
   "id": "9e199cf1",
   "metadata": {},
   "outputs": [
    {
     "data": {
      "text/html": [
       "<div>\n",
       "<style scoped>\n",
       "    .dataframe tbody tr th:only-of-type {\n",
       "        vertical-align: middle;\n",
       "    }\n",
       "\n",
       "    .dataframe tbody tr th {\n",
       "        vertical-align: top;\n",
       "    }\n",
       "\n",
       "    .dataframe thead th {\n",
       "        text-align: right;\n",
       "    }\n",
       "</style>\n",
       "<table border=\"1\" class=\"dataframe\">\n",
       "  <thead>\n",
       "    <tr style=\"text-align: right;\">\n",
       "      <th></th>\n",
       "      <th>ITPM</th>\n",
       "      <th>업무분석가</th>\n",
       "      <th>IT아키텍트</th>\n",
       "      <th>UXUI개발자</th>\n",
       "    </tr>\n",
       "  </thead>\n",
       "  <tbody>\n",
       "    <tr>\n",
       "      <th>일 평균임금</th>\n",
       "      <td>463</td>\n",
       "      <td>544</td>\n",
       "      <td>518</td>\n",
       "      <td>291</td>\n",
       "    </tr>\n",
       "    <tr>\n",
       "      <th>월 평균임금</th>\n",
       "      <td>9543</td>\n",
       "      <td>11226</td>\n",
       "      <td>10672</td>\n",
       "      <td>6003</td>\n",
       "    </tr>\n",
       "    <tr>\n",
       "      <th>시간 평균임금</th>\n",
       "      <td>57</td>\n",
       "      <td>68</td>\n",
       "      <td>64</td>\n",
       "      <td>36</td>\n",
       "    </tr>\n",
       "  </tbody>\n",
       "</table>\n",
       "</div>"
      ],
      "text/plain": [
       "         ITPM  업무분석가  IT아키텍트  UXUI개발자\n",
       "일 평균임금    463    544     518      291\n",
       "월 평균임금   9543  11226   10672     6003\n",
       "시간 평균임금    57     68      64       36"
      ]
     },
     "execution_count": 100,
     "metadata": {},
     "output_type": "execute_result"
    }
   ],
   "source": [
    "# index와 columns의 전치(위치를 바꿈)\n",
    "# Transpose의 약자 >> T\n",
    "df2 = df2.T\n",
    "df2"
   ]
  },
  {
   "cell_type": "code",
   "execution_count": 101,
   "id": "dca9c920",
   "metadata": {},
   "outputs": [
    {
     "data": {
      "text/plain": [
       "array([[  463,   544,   518,   291],\n",
       "       [ 9543, 11226, 10672,  6003],\n",
       "       [   57,    68,    64,    36]], dtype=int64)"
      ]
     },
     "execution_count": 101,
     "metadata": {},
     "output_type": "execute_result"
    }
   ],
   "source": [
    "df2.values"
   ]
  },
  {
   "cell_type": "code",
   "execution_count": 102,
   "id": "10dd3dd9",
   "metadata": {},
   "outputs": [
    {
     "data": {
      "text/plain": [
       "Index(['일 평균임금', '월 평균임금', '시간 평균임금'], dtype='object')"
      ]
     },
     "execution_count": 102,
     "metadata": {},
     "output_type": "execute_result"
    }
   ],
   "source": [
    "df.index"
   ]
  },
  {
   "cell_type": "code",
   "execution_count": 103,
   "id": "f35e1991",
   "metadata": {
    "scrolled": true
   },
   "outputs": [
    {
     "data": {
      "text/plain": [
       "Index(['ITPM', '업무분석가', 'IT아키텍트', 'UIUX개발자'], dtype='object')"
      ]
     },
     "execution_count": 103,
     "metadata": {},
     "output_type": "execute_result"
    }
   ],
   "source": [
    "df.columns"
   ]
  },
  {
   "cell_type": "markdown",
   "id": "64fee146",
   "metadata": {},
   "source": [
    "## DataFrame indexing/slicing\n",
    "- DataFrame은 'Series의 모임'이라고 생각하면 편함\n",
    "- DataFrame 인덱싱 : 하나의 Series를 가져옴\n",
    "- DataFrame 슬라이싱 : 여러개의 원하는 부분을 가져옴"
   ]
  },
  {
   "cell_type": "markdown",
   "id": "c89342e5",
   "metadata": {},
   "source": [
    "#### 열접근(컬럼선택)\n",
    "- DataFrame명.['컬럼명']"
   ]
  },
  {
   "cell_type": "code",
   "execution_count": 104,
   "id": "ca8edf21",
   "metadata": {},
   "outputs": [
    {
     "data": {
      "text/plain": [
       "일 평균임금      463\n",
       "월 평균임금     9543\n",
       "시간 평균임금      57\n",
       "Name: ITPM, dtype: int64"
      ]
     },
     "execution_count": 104,
     "metadata": {},
     "output_type": "execute_result"
    }
   ],
   "source": [
    "# Series >> 1차원\n",
    "df2['ITPM']"
   ]
  },
  {
   "cell_type": "code",
   "execution_count": 108,
   "id": "30ec9d1d",
   "metadata": {},
   "outputs": [
    {
     "data": {
      "text/html": [
       "<div>\n",
       "<style scoped>\n",
       "    .dataframe tbody tr th:only-of-type {\n",
       "        vertical-align: middle;\n",
       "    }\n",
       "\n",
       "    .dataframe tbody tr th {\n",
       "        vertical-align: top;\n",
       "    }\n",
       "\n",
       "    .dataframe thead th {\n",
       "        text-align: right;\n",
       "    }\n",
       "</style>\n",
       "<table border=\"1\" class=\"dataframe\">\n",
       "  <thead>\n",
       "    <tr style=\"text-align: right;\">\n",
       "      <th></th>\n",
       "      <th>ITPM</th>\n",
       "      <th>업무분석가</th>\n",
       "    </tr>\n",
       "  </thead>\n",
       "  <tbody>\n",
       "    <tr>\n",
       "      <th>일 평균임금</th>\n",
       "      <td>463</td>\n",
       "      <td>544</td>\n",
       "    </tr>\n",
       "    <tr>\n",
       "      <th>월 평균임금</th>\n",
       "      <td>9543</td>\n",
       "      <td>11226</td>\n",
       "    </tr>\n",
       "    <tr>\n",
       "      <th>시간 평균임금</th>\n",
       "      <td>57</td>\n",
       "      <td>68</td>\n",
       "    </tr>\n",
       "  </tbody>\n",
       "</table>\n",
       "</div>"
      ],
      "text/plain": [
       "         ITPM  업무분석가\n",
       "일 평균임금    463    544\n",
       "월 평균임금   9543  11226\n",
       "시간 평균임금    57     68"
      ]
     },
     "execution_count": 108,
     "metadata": {},
     "output_type": "execute_result"
    }
   ],
   "source": [
    "# Series >> 2차원\n",
    "df2[['ITPM', '업무분석가']]"
   ]
  },
  {
   "cell_type": "code",
   "execution_count": 109,
   "id": "425a7b93",
   "metadata": {},
   "outputs": [
    {
     "data": {
      "text/html": [
       "<div>\n",
       "<style scoped>\n",
       "    .dataframe tbody tr th:only-of-type {\n",
       "        vertical-align: middle;\n",
       "    }\n",
       "\n",
       "    .dataframe tbody tr th {\n",
       "        vertical-align: top;\n",
       "    }\n",
       "\n",
       "    .dataframe thead th {\n",
       "        text-align: right;\n",
       "    }\n",
       "</style>\n",
       "<table border=\"1\" class=\"dataframe\">\n",
       "  <thead>\n",
       "    <tr style=\"text-align: right;\">\n",
       "      <th></th>\n",
       "      <th>ITPM</th>\n",
       "      <th>업무분석가</th>\n",
       "      <th>IT아키텍트</th>\n",
       "      <th>UXUI개발자</th>\n",
       "      <th>정보보안전문가</th>\n",
       "    </tr>\n",
       "  </thead>\n",
       "  <tbody>\n",
       "    <tr>\n",
       "      <th>일 평균임금</th>\n",
       "      <td>463</td>\n",
       "      <td>544</td>\n",
       "      <td>518</td>\n",
       "      <td>291</td>\n",
       "      <td>362</td>\n",
       "    </tr>\n",
       "    <tr>\n",
       "      <th>월 평균임금</th>\n",
       "      <td>9543</td>\n",
       "      <td>11226</td>\n",
       "      <td>10672</td>\n",
       "      <td>6003</td>\n",
       "      <td>7426</td>\n",
       "    </tr>\n",
       "    <tr>\n",
       "      <th>시간 평균임금</th>\n",
       "      <td>57</td>\n",
       "      <td>68</td>\n",
       "      <td>64</td>\n",
       "      <td>36</td>\n",
       "      <td>45</td>\n",
       "    </tr>\n",
       "  </tbody>\n",
       "</table>\n",
       "</div>"
      ],
      "text/plain": [
       "         ITPM  업무분석가  IT아키텍트  UXUI개발자  정보보안전문가\n",
       "일 평균임금    463    544     518      291      362\n",
       "월 평균임금   9543  11226   10672     6003     7426\n",
       "시간 평균임금    57     68      64       36       45"
      ]
     },
     "execution_count": 109,
     "metadata": {},
     "output_type": "execute_result"
    }
   ],
   "source": [
    "# DataFrame 추가\n",
    "df2['정보보안전문가'] = [362, 7426, 45]\n",
    "df2"
   ]
  },
  {
   "cell_type": "code",
   "execution_count": 111,
   "id": "0ade50c2",
   "metadata": {},
   "outputs": [
    {
     "data": {
      "text/html": [
       "<div>\n",
       "<style scoped>\n",
       "    .dataframe tbody tr th:only-of-type {\n",
       "        vertical-align: middle;\n",
       "    }\n",
       "\n",
       "    .dataframe tbody tr th {\n",
       "        vertical-align: top;\n",
       "    }\n",
       "\n",
       "    .dataframe thead th {\n",
       "        text-align: right;\n",
       "    }\n",
       "</style>\n",
       "<table border=\"1\" class=\"dataframe\">\n",
       "  <thead>\n",
       "    <tr style=\"text-align: right;\">\n",
       "      <th></th>\n",
       "      <th>ITPM</th>\n",
       "      <th>업무분석가</th>\n",
       "      <th>IT아키텍트</th>\n",
       "      <th>UXUI개발자</th>\n",
       "      <th>정보보안전문가</th>\n",
       "    </tr>\n",
       "  </thead>\n",
       "  <tbody>\n",
       "    <tr>\n",
       "      <th>일 평균임금</th>\n",
       "      <td>463</td>\n",
       "      <td>544</td>\n",
       "      <td>518</td>\n",
       "      <td>291</td>\n",
       "      <td>362</td>\n",
       "    </tr>\n",
       "    <tr>\n",
       "      <th>월 평균임금</th>\n",
       "      <td>9543</td>\n",
       "      <td>11226</td>\n",
       "      <td>10672</td>\n",
       "      <td>6003</td>\n",
       "      <td>7426</td>\n",
       "    </tr>\n",
       "  </tbody>\n",
       "</table>\n",
       "</div>"
      ],
      "text/plain": [
       "        ITPM  업무분석가  IT아키텍트  UXUI개발자  정보보안전문가\n",
       "일 평균임금   463    544     518      291      362\n",
       "월 평균임금  9543  11226   10672     6003     7426"
      ]
     },
     "execution_count": 111,
     "metadata": {},
     "output_type": "execute_result"
    }
   ],
   "source": [
    "# 행 슬라이싱\n",
    "df2[0:2]"
   ]
  },
  {
   "cell_type": "markdown",
   "id": "adf6ec03",
   "metadata": {},
   "source": [
    "## DataFrame 슬라이싱 >> 인덱서(indexer)활용\n",
    "- 인덱서란?\n",
    "    - DataFrame 객체에 대해서 \"함수\"가 아닌 \"속성[ ]\"으로써, \n",
    "      행과 열을 한번에 인덱싱/슬라이싱 할 수 있는 기능\n",
    "<br><br>      \n",
    "- loc[ ] indexer\n",
    "    - \"인덱스명\"과 \"컬럼명\"을 가지고 값을 인덱싱/슬라이싱하는 방법<br>\n",
    "    - DataFrame명.loc[\"인덱스명\"{,\"컬럼명\"}]\n",
    "    - \"컬럼명\" 생략 시 해당 행의 모든 열을 출력\n",
    "<br><br>\n",
    "\n",
    "- iloc[ ] indexer\n",
    "    - \"행 번호\"와 \"열 번호\"를 가지고 값을 인덱싱/슬라이싱 하는 방법<br>\n",
    "    - DataFrame명.loc[\"행 번호\"{,\"열 번호\"}]\n",
    "    - \"열 번호\" 생략 시 해당 행의 모든 열을 출력"
   ]
  },
  {
   "cell_type": "code",
   "execution_count": 112,
   "id": "d0307927",
   "metadata": {},
   "outputs": [
    {
     "data": {
      "text/html": [
       "<div>\n",
       "<style scoped>\n",
       "    .dataframe tbody tr th:only-of-type {\n",
       "        vertical-align: middle;\n",
       "    }\n",
       "\n",
       "    .dataframe tbody tr th {\n",
       "        vertical-align: top;\n",
       "    }\n",
       "\n",
       "    .dataframe thead th {\n",
       "        text-align: right;\n",
       "    }\n",
       "</style>\n",
       "<table border=\"1\" class=\"dataframe\">\n",
       "  <thead>\n",
       "    <tr style=\"text-align: right;\">\n",
       "      <th></th>\n",
       "      <th>ITPM</th>\n",
       "      <th>업무분석가</th>\n",
       "      <th>IT아키텍트</th>\n",
       "      <th>UXUI개발자</th>\n",
       "      <th>정보보안전문가</th>\n",
       "    </tr>\n",
       "  </thead>\n",
       "  <tbody>\n",
       "    <tr>\n",
       "      <th>일 평균임금</th>\n",
       "      <td>463</td>\n",
       "      <td>544</td>\n",
       "      <td>518</td>\n",
       "      <td>291</td>\n",
       "      <td>362</td>\n",
       "    </tr>\n",
       "    <tr>\n",
       "      <th>월 평균임금</th>\n",
       "      <td>9543</td>\n",
       "      <td>11226</td>\n",
       "      <td>10672</td>\n",
       "      <td>6003</td>\n",
       "      <td>7426</td>\n",
       "    </tr>\n",
       "    <tr>\n",
       "      <th>시간 평균임금</th>\n",
       "      <td>57</td>\n",
       "      <td>68</td>\n",
       "      <td>64</td>\n",
       "      <td>36</td>\n",
       "      <td>45</td>\n",
       "    </tr>\n",
       "  </tbody>\n",
       "</table>\n",
       "</div>"
      ],
      "text/plain": [
       "         ITPM  업무분석가  IT아키텍트  UXUI개발자  정보보안전문가\n",
       "일 평균임금    463    544     518      291      362\n",
       "월 평균임금   9543  11226   10672     6003     7426\n",
       "시간 평균임금    57     68      64       36       45"
      ]
     },
     "execution_count": 112,
     "metadata": {},
     "output_type": "execute_result"
    }
   ],
   "source": [
    "df2"
   ]
  },
  {
   "cell_type": "code",
   "execution_count": 118,
   "id": "7e7617cb",
   "metadata": {
    "scrolled": true
   },
   "outputs": [
    {
     "data": {
      "text/html": [
       "<div>\n",
       "<style scoped>\n",
       "    .dataframe tbody tr th:only-of-type {\n",
       "        vertical-align: middle;\n",
       "    }\n",
       "\n",
       "    .dataframe tbody tr th {\n",
       "        vertical-align: top;\n",
       "    }\n",
       "\n",
       "    .dataframe thead th {\n",
       "        text-align: right;\n",
       "    }\n",
       "</style>\n",
       "<table border=\"1\" class=\"dataframe\">\n",
       "  <thead>\n",
       "    <tr style=\"text-align: right;\">\n",
       "      <th></th>\n",
       "      <th>ITPM</th>\n",
       "      <th>업무분석가</th>\n",
       "      <th>IT아키텍트</th>\n",
       "      <th>UXUI개발자</th>\n",
       "      <th>정보보안전문가</th>\n",
       "    </tr>\n",
       "  </thead>\n",
       "  <tbody>\n",
       "    <tr>\n",
       "      <th>시간 평균임금</th>\n",
       "      <td>57</td>\n",
       "      <td>68</td>\n",
       "      <td>64</td>\n",
       "      <td>36</td>\n",
       "      <td>45</td>\n",
       "    </tr>\n",
       "  </tbody>\n",
       "</table>\n",
       "</div>"
      ],
      "text/plain": [
       "         ITPM  업무분석가  IT아키텍트  UXUI개발자  정보보안전문가\n",
       "시간 평균임금    57     68      64       36       45"
      ]
     },
     "metadata": {},
     "output_type": "display_data"
    },
    {
     "data": {
      "text/html": [
       "<div>\n",
       "<style scoped>\n",
       "    .dataframe tbody tr th:only-of-type {\n",
       "        vertical-align: middle;\n",
       "    }\n",
       "\n",
       "    .dataframe tbody tr th {\n",
       "        vertical-align: top;\n",
       "    }\n",
       "\n",
       "    .dataframe thead th {\n",
       "        text-align: right;\n",
       "    }\n",
       "</style>\n",
       "<table border=\"1\" class=\"dataframe\">\n",
       "  <thead>\n",
       "    <tr style=\"text-align: right;\">\n",
       "      <th></th>\n",
       "      <th>ITPM</th>\n",
       "      <th>업무분석가</th>\n",
       "      <th>IT아키텍트</th>\n",
       "      <th>UXUI개발자</th>\n",
       "      <th>정보보안전문가</th>\n",
       "    </tr>\n",
       "  </thead>\n",
       "  <tbody>\n",
       "    <tr>\n",
       "      <th>시간 평균임금</th>\n",
       "      <td>57</td>\n",
       "      <td>68</td>\n",
       "      <td>64</td>\n",
       "      <td>36</td>\n",
       "      <td>45</td>\n",
       "    </tr>\n",
       "  </tbody>\n",
       "</table>\n",
       "</div>"
      ],
      "text/plain": [
       "         ITPM  업무분석가  IT아키텍트  UXUI개발자  정보보안전문가\n",
       "시간 평균임금    57     68      64       36       45"
      ]
     },
     "metadata": {},
     "output_type": "display_data"
    }
   ],
   "source": [
    "display(df2.loc[['시간 평균임금']])\n",
    "display(df2.iloc[[2]])"
   ]
  },
  {
   "cell_type": "code",
   "execution_count": 120,
   "id": "fffa9324",
   "metadata": {},
   "outputs": [
    {
     "data": {
      "text/plain": [
       "57"
      ]
     },
     "metadata": {},
     "output_type": "display_data"
    },
    {
     "data": {
      "text/plain": [
       "57"
      ]
     },
     "metadata": {},
     "output_type": "display_data"
    }
   ],
   "source": [
    "display(df2.loc['시간 평균임금', 'ITPM'])\n",
    "display(df2.iloc[2,0])"
   ]
  },
  {
   "cell_type": "code",
   "execution_count": 122,
   "id": "b2309868",
   "metadata": {},
   "outputs": [
    {
     "data": {
      "text/html": [
       "<div>\n",
       "<style scoped>\n",
       "    .dataframe tbody tr th:only-of-type {\n",
       "        vertical-align: middle;\n",
       "    }\n",
       "\n",
       "    .dataframe tbody tr th {\n",
       "        vertical-align: top;\n",
       "    }\n",
       "\n",
       "    .dataframe thead th {\n",
       "        text-align: right;\n",
       "    }\n",
       "</style>\n",
       "<table border=\"1\" class=\"dataframe\">\n",
       "  <thead>\n",
       "    <tr style=\"text-align: right;\">\n",
       "      <th></th>\n",
       "      <th>IT아키텍트</th>\n",
       "      <th>UXUI개발자</th>\n",
       "    </tr>\n",
       "  </thead>\n",
       "  <tbody>\n",
       "    <tr>\n",
       "      <th>일 평균임금</th>\n",
       "      <td>518</td>\n",
       "      <td>291</td>\n",
       "    </tr>\n",
       "    <tr>\n",
       "      <th>월 평균임금</th>\n",
       "      <td>10672</td>\n",
       "      <td>6003</td>\n",
       "    </tr>\n",
       "  </tbody>\n",
       "</table>\n",
       "</div>"
      ],
      "text/plain": [
       "        IT아키텍트  UXUI개발자\n",
       "일 평균임금     518      291\n",
       "월 평균임금   10672     6003"
      ]
     },
     "metadata": {},
     "output_type": "display_data"
    }
   ],
   "source": [
    "display(df2.iloc[0:2,2:4])"
   ]
  }
 ],
 "metadata": {
  "kernelspec": {
   "display_name": "Python 3 (ipykernel)",
   "language": "python",
   "name": "python3"
  },
  "language_info": {
   "codemirror_mode": {
    "name": "ipython",
    "version": 3
   },
   "file_extension": ".py",
   "mimetype": "text/x-python",
   "name": "python",
   "nbconvert_exporter": "python",
   "pygments_lexer": "ipython3",
   "version": "3.11.3"
  }
 },
 "nbformat": 4,
 "nbformat_minor": 5
}

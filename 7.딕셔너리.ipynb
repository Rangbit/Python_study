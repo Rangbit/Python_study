{
 "cells": [
  {
   "cell_type": "markdown",
   "id": "ff4b480d",
   "metadata": {},
   "source": [
    "### 딕셔너리\n",
    "- 사전\n",
    "- Key는 불변적, Value는 가변적\n",
    "- 딕셔너리명 = {'key':'value',...}"
   ]
  },
  {
   "cell_type": "markdown",
   "id": "239cb193",
   "metadata": {},
   "source": [
    "|    데이터 타입    |  가변형 / 불변형  |\n",
    "|:------------------:|:----------------:|\n",
    "|       int         |      불변형       |\n",
    "|       float       |      불변형       |\n",
    "|       bool        |      불변형       |\n",
    "|       str         |      불변형       |\n",
    "|       tuple       |      불변형       |\n",
    "|       frozenset   |      불변형       |\n",
    "|       list        |       가변형      |\n",
    "|       set         |       가변형      |\n",
    "|       dict        |       가변형      |\n",
    "| numpy.ndarray     |       가변형      |\n",
    "| pandas.Series     |       가변형      |\n",
    "| pandas.DataFrame  |       가변형      |"
   ]
  },
  {
   "cell_type": "code",
   "execution_count": 9,
   "id": "5f0e0466",
   "metadata": {},
   "outputs": [
    {
     "name": "stdout",
     "output_type": "stream",
     "text": [
      "list1: [1, 2, 3], list2: [1, 2, 3, 4]\n",
      "list1 id: 1708895403392, list2 id: 1708881808256\n",
      "num1: 10, num2: 15\n",
      "num1 id: 140715368289352, num2 id: 140715368289512\n"
     ]
    }
   ],
   "source": [
    "# 리스트는 가변형이므로 주소값 공유\n",
    "list1 = [1, 2, 3]\n",
    "#list2 = list1\n",
    "# 주소값을 공유하고 싶지 않을 땐 .copy()\n",
    "list2 = list1.copy()\n",
    "list2.append(4)\n",
    "\n",
    "print(f\"list1: {list1}, list2: {list2}\")\n",
    "print(f\"list1 id: {id(list1)}, list2 id: {id(list2)}\")\n",
    "\n",
    "# 숫자는 불변형이므로 주소값 변경\n",
    "num1 = 10\n",
    "num2 = num1\n",
    "num2 += 5\n",
    "\n",
    "print(f\"num1: {num1}, num2: {num2}\")\n",
    "print(f\"num1 id: {id(num1)}, num2 id: {id(num2)}\")"
   ]
  },
  {
   "cell_type": "code",
   "execution_count": 11,
   "id": "7fffca65",
   "metadata": {},
   "outputs": [
    {
     "data": {
      "text/plain": [
       "{'key': 'value', 'name': 'KM', 'age': 20, 'phone': '010-0000-0000'}"
      ]
     },
     "execution_count": 11,
     "metadata": {},
     "output_type": "execute_result"
    }
   ],
   "source": [
    "dic1 = {'key':'value', 'name':'KM', 'age':20, 'phone':'010-0000-0000'}\n",
    "dic1"
   ]
  },
  {
   "cell_type": "code",
   "execution_count": 13,
   "id": "421de2b3",
   "metadata": {},
   "outputs": [
    {
     "name": "stdout",
     "output_type": "stream",
     "text": [
      "value\n"
     ]
    },
    {
     "data": {
      "text/plain": [
       "{'key': 'value',\n",
       " 'name': 'KM',\n",
       " 'age': 20,\n",
       " 'phone': '010-0000-0000',\n",
       " 'birth': '01/01'}"
      ]
     },
     "execution_count": 13,
     "metadata": {},
     "output_type": "execute_result"
    }
   ],
   "source": [
    "# 딕셔너리 값 추가 -> 딕셔너리는 순서가 없음\n",
    "# dic['key'] = value\n",
    "print(dic1['key'])  ## 딕셔너리 인덱싱\n",
    "dic1['birth'] = '01/01'\n",
    "dic1\n"
   ]
  },
  {
   "cell_type": "code",
   "execution_count": 14,
   "id": "ee157e9e",
   "metadata": {},
   "outputs": [],
   "source": [
    "# 딕셔너리 값 삭제\n",
    "# del 딕셔너리명['key']\n",
    "del dic1['age']"
   ]
  },
  {
   "cell_type": "code",
   "execution_count": 15,
   "id": "cec71df4",
   "metadata": {},
   "outputs": [
    {
     "data": {
      "text/plain": [
       "{'key': 'value', 'name': 'KM', 'phone': '010-0000-0000', 'birth': '01/01'}"
      ]
     },
     "execution_count": 15,
     "metadata": {},
     "output_type": "execute_result"
    }
   ],
   "source": [
    "dic1"
   ]
  },
  {
   "cell_type": "code",
   "execution_count": 18,
   "id": "0093e8ec",
   "metadata": {},
   "outputs": [
    {
     "data": {
      "text/plain": [
       "'KM'"
      ]
     },
     "execution_count": 18,
     "metadata": {},
     "output_type": "execute_result"
    }
   ],
   "source": [
    "# 딕셔너리 값 가져오기 1.인덱싱\n",
    "dic1['name']"
   ]
  },
  {
   "cell_type": "code",
   "execution_count": 17,
   "id": "d458b8e7",
   "metadata": {},
   "outputs": [
    {
     "data": {
      "text/plain": [
       "'KM'"
      ]
     },
     "execution_count": 17,
     "metadata": {},
     "output_type": "execute_result"
    }
   ],
   "source": [
    "# 딕셔너리 값 가져오기 2.get()\n",
    "dic1.get('name')"
   ]
  },
  {
   "cell_type": "code",
   "execution_count": 20,
   "id": "1fcab30c",
   "metadata": {},
   "outputs": [
    {
     "ename": "KeyError",
     "evalue": "'age'",
     "output_type": "error",
     "traceback": [
      "\u001b[1;31m---------------------------------------------------------------------------\u001b[0m",
      "\u001b[1;31mKeyError\u001b[0m                                  Traceback (most recent call last)",
      "Cell \u001b[1;32mIn[20], line 1\u001b[0m\n\u001b[1;32m----> 1\u001b[0m \u001b[38;5;28mprint\u001b[39m(dic1[\u001b[38;5;124m'\u001b[39m\u001b[38;5;124mage\u001b[39m\u001b[38;5;124m'\u001b[39m])\n",
      "\u001b[1;31mKeyError\u001b[0m: 'age'"
     ]
    }
   ],
   "source": [
    "print(dic1['age'])"
   ]
  },
  {
   "cell_type": "code",
   "execution_count": 21,
   "id": "9f9592fc",
   "metadata": {},
   "outputs": [
    {
     "name": "stdout",
     "output_type": "stream",
     "text": [
      "None\n"
     ]
    }
   ],
   "source": [
    "print(dic1.get('age'))"
   ]
  },
  {
   "cell_type": "code",
   "execution_count": 22,
   "id": "b9d51175",
   "metadata": {},
   "outputs": [
    {
     "data": {
      "text/plain": [
       "['key', 'name', 'phone', 'birth']"
      ]
     },
     "execution_count": 22,
     "metadata": {},
     "output_type": "execute_result"
    }
   ],
   "source": [
    "# keys() -> 키값들만 가져오기\n",
    "list(dic1.keys()) # list로 딕셔너리 key값을 뽑아오면 인덱싱 가능"
   ]
  },
  {
   "cell_type": "code",
   "execution_count": 23,
   "id": "98015334",
   "metadata": {},
   "outputs": [
    {
     "data": {
      "text/plain": [
       "['value', 'KM', '010-0000-0000', '01/01']"
      ]
     },
     "execution_count": 23,
     "metadata": {},
     "output_type": "execute_result"
    }
   ],
   "source": [
    "# values() -> 키값들만 가져오기\n",
    "list(dic1.values()) # list로 딕셔너리 values값을 뽑아오면 인덱싱 가능"
   ]
  },
  {
   "cell_type": "code",
   "execution_count": 27,
   "id": "b512ffde",
   "metadata": {},
   "outputs": [
    {
     "name": "stdout",
     "output_type": "stream",
     "text": [
      "key\n",
      "name\n",
      "phone\n",
      "birth\n"
     ]
    }
   ],
   "source": [
    "# 순서가 없지만 for문 안에 활용이 가능\n",
    "# 시퀀스 자료구조만 들어갈 수 있음\n",
    "# items() ->  (key , value)  튜플형태 반환\n",
    "for key in dic1 :\n",
    "    print(key)"
   ]
  },
  {
   "cell_type": "code",
   "execution_count": 30,
   "id": "0b455bc3",
   "metadata": {},
   "outputs": [
    {
     "name": "stdout",
     "output_type": "stream",
     "text": [
      "('key', 'value')\n",
      "('name', 'KM')\n",
      "('phone', '010-0000-0000')\n",
      "('birth', '01/01')\n",
      "key value\n",
      "name KM\n",
      "phone 010-0000-0000\n",
      "birth 01/01\n"
     ]
    }
   ],
   "source": [
    "for items in dic1.items() : \n",
    "    print(items)\n",
    "for k, v in dic1.items() : \n",
    "    print(k, v)   "
   ]
  },
  {
   "cell_type": "code",
   "execution_count": 31,
   "id": "b5db1d39",
   "metadata": {},
   "outputs": [
    {
     "data": {
      "text/plain": [
       "{'이름': ['name1', 'name2', 'name3', 'name4'],\n",
       " 'Python': [90, 80, 90, 100],\n",
       " 'Java': [80, 90, 80, 90],\n",
       " 'Web': [70, 80, 90, 80]}"
      ]
     },
     "execution_count": 31,
     "metadata": {},
     "output_type": "execute_result"
    }
   ],
   "source": [
    "score_dict = {'이름':['name1', 'name2', 'name3', 'name4'],\n",
    "              'Python':[90,80,90,100],\n",
    "              'Java':[80,90,80,90],\n",
    "              'Web':[70,80,90,80]}\n",
    "score_dict"
   ]
  },
  {
   "cell_type": "code",
   "execution_count": 35,
   "id": "119776db",
   "metadata": {},
   "outputs": [
    {
     "data": {
      "text/plain": [
       "72.0"
      ]
     },
     "execution_count": 35,
     "metadata": {},
     "output_type": "execute_result"
    }
   ],
   "source": [
    "# 1. Python 점수의 평균 구하기\n",
    "py_avg = sum(score_dict['Python'])/5\n",
    "py_avg"
   ]
  },
  {
   "cell_type": "code",
   "execution_count": 47,
   "id": "a814c554",
   "metadata": {},
   "outputs": [
    {
     "name": "stdout",
     "output_type": "stream",
     "text": [
      "Python 평균 : 72.0\n",
      "Java 평균 : 68.0\n",
      "Web 평균 : 64.0\n"
     ]
    }
   ],
   "source": [
    "for a in list(score_dict.keys())[1:] :\n",
    "    avg = sum(score_dict[a])/5\n",
    "    print(f\"{a} 평균 : {avg}\")"
   ]
  },
  {
   "cell_type": "markdown",
   "id": "b9cf8dfc",
   "metadata": {},
   "source": [
    "### 딕셔너리 값 전체 삭제\n",
    "- 딕셔너리 모두 지우기 clear"
   ]
  },
  {
   "cell_type": "code",
   "execution_count": 48,
   "id": "99b357e2",
   "metadata": {},
   "outputs": [],
   "source": [
    "score_dict.clear()"
   ]
  },
  {
   "cell_type": "code",
   "execution_count": 49,
   "id": "099fc28f",
   "metadata": {},
   "outputs": [
    {
     "data": {
      "text/plain": [
       "{}"
      ]
     },
     "execution_count": 49,
     "metadata": {},
     "output_type": "execute_result"
    }
   ],
   "source": [
    "score_dict"
   ]
  }
 ],
 "metadata": {
  "kernelspec": {
   "display_name": "Python 3 (ipykernel)",
   "language": "python",
   "name": "python3"
  },
  "language_info": {
   "codemirror_mode": {
    "name": "ipython",
    "version": 3
   },
   "file_extension": ".py",
   "mimetype": "text/x-python",
   "name": "python",
   "nbconvert_exporter": "python",
   "pygments_lexer": "ipython3",
   "version": "3.11.3"
  }
 },
 "nbformat": 4,
 "nbformat_minor": 5
}

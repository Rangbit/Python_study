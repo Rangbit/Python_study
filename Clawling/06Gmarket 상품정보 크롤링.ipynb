{
 "cells": [
  {
   "cell_type": "markdown",
   "id": "5543adaa",
   "metadata": {},
   "source": [
    "### Gmarket 상품정보 크롤링\n",
    "- 1~10위까지 상품에 하나하나 접근(클릭)\n",
    "- 상품이름, 상품가격, 카테고리 수집\n"
   ]
  },
  {
   "cell_type": "code",
   "execution_count": 1,
   "id": "ded43174",
   "metadata": {},
   "outputs": [],
   "source": [
    "from selenium import webdriver as wb\n",
    "from selenium.webdriver.common.keys import Keys\n",
    "from selenium.webdriver.common.by import By\n",
    "from bs4 import BeautifulSoup as bs\n",
    "import time\n",
    "import pandas as pd\n",
    "import requests as re"
   ]
  },
  {
   "cell_type": "code",
   "execution_count": 21,
   "id": "11add0bd",
   "metadata": {
    "scrolled": false
   },
   "outputs": [
    {
     "data": {
      "text/html": [
       "<div>\n",
       "<style scoped>\n",
       "    .dataframe tbody tr th:only-of-type {\n",
       "        vertical-align: middle;\n",
       "    }\n",
       "\n",
       "    .dataframe tbody tr th {\n",
       "        vertical-align: top;\n",
       "    }\n",
       "\n",
       "    .dataframe thead th {\n",
       "        text-align: right;\n",
       "    }\n",
       "</style>\n",
       "<table border=\"1\" class=\"dataframe\">\n",
       "  <thead>\n",
       "    <tr style=\"text-align: right;\">\n",
       "      <th></th>\n",
       "      <th>상품명</th>\n",
       "      <th>가격</th>\n",
       "      <th>카테고리</th>\n",
       "    </tr>\n",
       "  </thead>\n",
       "  <tbody>\n",
       "    <tr>\n",
       "      <th>0</th>\n",
       "      <td>(클럽 위크전용 쿠폰적용가 6천원) 메가박스 일반예매권 2D주중/주말</td>\n",
       "      <td>15,000원</td>\n",
       "      <td>메가박스</td>\n",
       "    </tr>\n",
       "    <tr>\n",
       "      <th>1</th>\n",
       "      <td>10%+5% 나이키 뉴발란스 스우시 6팩 크루삭스 운동 스포츠양말</td>\n",
       "      <td>14,900원</td>\n",
       "      <td>골프양말</td>\n",
       "    </tr>\n",
       "    <tr>\n",
       "      <th>2</th>\n",
       "      <td>((쿠폰가:12870원))1+1 든든한 퀄리티 캡커버 장우산 양산 ZH001</td>\n",
       "      <td>14,300원</td>\n",
       "      <td>장우산</td>\n",
       "    </tr>\n",
       "    <tr>\n",
       "      <th>3</th>\n",
       "      <td>통영 자연산 대왕 바다장어 1kg (1kg에 2-3미/ 당일 조업 당일 손질/ 산지...</td>\n",
       "      <td>19,900원</td>\n",
       "      <td>장어</td>\n",
       "    </tr>\n",
       "    <tr>\n",
       "      <th>4</th>\n",
       "      <td>(최종가 13900원) 초대형 장우산 1+1 자동 튼튼한 골프 의전 우산 둘레 150cm</td>\n",
       "      <td>17,400원</td>\n",
       "      <td>장우산</td>\n",
       "    </tr>\n",
       "    <tr>\n",
       "      <th>5</th>\n",
       "      <td>육개장사발면 24개입</td>\n",
       "      <td>21,900원</td>\n",
       "      <td>라면/면</td>\n",
       "    </tr>\n",
       "    <tr>\n",
       "      <th>6</th>\n",
       "      <td>섬유유연제 3100ml x2개+2300mlx3개(향선택)+시그300mlx2개/특가1...</td>\n",
       "      <td>17,900원</td>\n",
       "      <td>섬유유연제</td>\n",
       "    </tr>\n",
       "    <tr>\n",
       "      <th>7</th>\n",
       "      <td>(유니버스클럽 전용 쿠폰적용가 5천원) 메가박스 일반예매권 2D-주중/주말</td>\n",
       "      <td>15,000원</td>\n",
       "      <td>메가박스</td>\n",
       "    </tr>\n",
       "    <tr>\n",
       "      <th>8</th>\n",
       "      <td>HACCP인증/국내산 물김치 (얼갈이+열무)2kg/쿠폰가13320원</td>\n",
       "      <td>14,800원</td>\n",
       "      <td>기타김치</td>\n",
       "    </tr>\n",
       "    <tr>\n",
       "      <th>9</th>\n",
       "      <td>아디다스 오리지널 베이스 클래스 트레포일 볼캡 모자 5종택일</td>\n",
       "      <td>13,500원</td>\n",
       "      <td>스포츠캡모자</td>\n",
       "    </tr>\n",
       "  </tbody>\n",
       "</table>\n",
       "</div>"
      ],
      "text/plain": [
       "                                                 상품명       가격    카테고리\n",
       "0             (클럽 위크전용 쿠폰적용가 6천원) 메가박스 일반예매권 2D주중/주말  15,000원    메가박스\n",
       "1               10%+5% 나이키 뉴발란스 스우시 6팩 크루삭스 운동 스포츠양말  14,900원    골프양말\n",
       "2         ((쿠폰가:12870원))1+1 든든한 퀄리티 캡커버 장우산 양산 ZH001  14,300원     장우산\n",
       "3  통영 자연산 대왕 바다장어 1kg (1kg에 2-3미/ 당일 조업 당일 손질/ 산지...  19,900원      장어\n",
       "4  (최종가 13900원) 초대형 장우산 1+1 자동 튼튼한 골프 의전 우산 둘레 150cm  17,400원     장우산\n",
       "5                                        육개장사발면 24개입  21,900원    라면/면\n",
       "6  섬유유연제 3100ml x2개+2300mlx3개(향선택)+시그300mlx2개/특가1...  17,900원   섬유유연제\n",
       "7          (유니버스클럽 전용 쿠폰적용가 5천원) 메가박스 일반예매권 2D-주중/주말  15,000원    메가박스\n",
       "8              HACCP인증/국내산 물김치 (얼갈이+열무)2kg/쿠폰가13320원  14,800원    기타김치\n",
       "9                  아디다스 오리지널 베이스 클래스 트레포일 볼캡 모자 5종택일  13,500원  스포츠캡모자"
      ]
     },
     "execution_count": 21,
     "metadata": {},
     "output_type": "execute_result"
    }
   ],
   "source": [
    "driver = wb.Chrome()\n",
    "time.sleep(1)\n",
    "categList = []\n",
    "nameList = []\n",
    "priceList = []\n",
    "for i in range(10) : \n",
    "    driver.get('https://www.gmarket.co.kr/n/best')\n",
    "    btn = driver.find_element(By.CLASS_NAME ,f'no{i+1}~div>a>img')\n",
    "    btn.click()\n",
    "    categ = driver.find_element(By.CLASS_NAME ,'on>a')\n",
    "    categList.append(categ.text)\n",
    "    name = driver.find_element(By.CLASS_NAME ,'itemtit')\n",
    "    nameList.append(name.text)\n",
    "    price = driver.find_element(By.CLASS_NAME ,'price_real')\n",
    "    priceList.append(price.text)\n",
    "dic = {'상품명' : nameList, '가격' : priceList, '카테고리' : categList}\n",
    "re_df = pd.DataFrame(dic)\n",
    "re_df = re_df.set_index(range(1,11))"
   ]
  },
  {
   "cell_type": "code",
   "execution_count": 11,
   "id": "f7b6bc53",
   "metadata": {
    "scrolled": true
   },
   "outputs": [
    {
     "name": "stdout",
     "output_type": "stream",
     "text": [
      "메가박스\n"
     ]
    }
   ],
   "source": [
    "categ = driver.find_element(By.CLASS_NAME ,'on>a')\n",
    "categList.append(categ.text)"
   ]
  },
  {
   "cell_type": "code",
   "execution_count": 12,
   "id": "619f0043",
   "metadata": {},
   "outputs": [
    {
     "name": "stdout",
     "output_type": "stream",
     "text": [
      "(클럽 위크전용 쿠폰적용가 6천원) 메가박스 일반예매권 2D주중/주말\n"
     ]
    }
   ],
   "source": [
    "name = driver.find_element(By.CLASS_NAME ,'itemtit')\n",
    "nameList.append(name.text)"
   ]
  },
  {
   "cell_type": "code",
   "execution_count": 13,
   "id": "144d9d18",
   "metadata": {},
   "outputs": [
    {
     "name": "stdout",
     "output_type": "stream",
     "text": [
      "15,000원\n"
     ]
    }
   ],
   "source": [
    "price = driver.find_element(By.CLASS_NAME ,'price_real')\n",
    "priceList.append(price.text)"
   ]
  },
  {
   "cell_type": "code",
   "execution_count": null,
   "id": "0fcec288",
   "metadata": {},
   "outputs": [],
   "source": [
    "dic = {'상품명' : nameList, '가격' : priceList, '카테고리' : categList}\n",
    "re_df = pd.DataFrame(dic)\n",
    "re_df"
   ]
  }
 ],
 "metadata": {
  "kernelspec": {
   "display_name": "Python 3 (ipykernel)",
   "language": "python",
   "name": "python3"
  },
  "language_info": {
   "codemirror_mode": {
    "name": "ipython",
    "version": 3
   },
   "file_extension": ".py",
   "mimetype": "text/x-python",
   "name": "python",
   "nbconvert_exporter": "python",
   "pygments_lexer": "ipython3",
   "version": "3.11.3"
  }
 },
 "nbformat": 4,
 "nbformat_minor": 5
}

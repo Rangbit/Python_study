{
 "cells": [
  {
   "cell_type": "markdown",
   "id": "7b20ed49",
   "metadata": {},
   "source": [
    "### selenium 라이브러리 불러오기\n",
    "- 웹페이지를 제어하기 위한 라이브러리"
   ]
  },
  {
   "cell_type": "code",
   "execution_count": 1,
   "id": "85a849bb",
   "metadata": {
    "collapsed": true
   },
   "outputs": [
    {
     "name": "stdout",
     "output_type": "stream",
     "text": [
      "Collecting selenium\n",
      "  Downloading selenium-4.11.2-py3-none-any.whl (7.2 MB)\n",
      "                                              0.0/7.2 MB ? eta -:--:--\n",
      "     -------                                  1.4/7.2 MB 44.6 MB/s eta 0:00:01\n",
      "     -----------------                        3.1/7.2 MB 66.7 MB/s eta 0:00:01\n",
      "     -----------------                        3.1/7.2 MB 66.7 MB/s eta 0:00:01\n",
      "     -----------------                        3.1/7.2 MB 66.7 MB/s eta 0:00:01\n",
      "     -----------------------                  4.2/7.2 MB 20.6 MB/s eta 0:00:01\n",
      "     ---------------------------------        6.1/7.2 MB 22.8 MB/s eta 0:00:01\n",
      "     ---------------------------------------  7.2/7.2 MB 25.5 MB/s eta 0:00:01\n",
      "     ---------------------------------------  7.2/7.2 MB 25.5 MB/s eta 0:00:01\n",
      "     ---------------------------------------- 7.2/7.2 MB 19.9 MB/s eta 0:00:00\n",
      "Requirement already satisfied: urllib3[socks]<3,>=1.26 in c:\\users\\smhrd\\anaconda3\\lib\\site-packages (from selenium) (1.26.16)\n",
      "Collecting trio~=0.17 (from selenium)\n",
      "  Downloading trio-0.22.2-py3-none-any.whl (400 kB)\n",
      "                                              0.0/400.2 kB ? eta -:--:--\n",
      "     ---------------------------------------- 400.2/400.2 kB ? eta 0:00:00\n",
      "Collecting trio-websocket~=0.9 (from selenium)\n",
      "  Downloading trio_websocket-0.10.3-py3-none-any.whl (17 kB)\n",
      "Requirement already satisfied: certifi>=2021.10.8 in c:\\users\\smhrd\\anaconda3\\lib\\site-packages (from selenium) (2023.5.7)\n",
      "Requirement already satisfied: attrs>=20.1.0 in c:\\users\\smhrd\\anaconda3\\lib\\site-packages (from trio~=0.17->selenium) (22.1.0)\n",
      "Requirement already satisfied: sortedcontainers in c:\\users\\smhrd\\anaconda3\\lib\\site-packages (from trio~=0.17->selenium) (2.4.0)\n",
      "Requirement already satisfied: idna in c:\\users\\smhrd\\anaconda3\\lib\\site-packages (from trio~=0.17->selenium) (3.4)\n",
      "Collecting outcome (from trio~=0.17->selenium)\n",
      "  Downloading outcome-1.2.0-py2.py3-none-any.whl (9.7 kB)\n",
      "Requirement already satisfied: sniffio in c:\\users\\smhrd\\anaconda3\\lib\\site-packages (from trio~=0.17->selenium) (1.2.0)\n",
      "Requirement already satisfied: cffi>=1.14 in c:\\users\\smhrd\\anaconda3\\lib\\site-packages (from trio~=0.17->selenium) (1.15.1)\n",
      "Collecting exceptiongroup (from trio-websocket~=0.9->selenium)\n",
      "  Downloading exceptiongroup-1.1.2-py3-none-any.whl (14 kB)\n",
      "Collecting wsproto>=0.14 (from trio-websocket~=0.9->selenium)\n",
      "  Downloading wsproto-1.2.0-py3-none-any.whl (24 kB)\n",
      "Requirement already satisfied: PySocks!=1.5.7,<2.0,>=1.5.6 in c:\\users\\smhrd\\anaconda3\\lib\\site-packages (from urllib3[socks]<3,>=1.26->selenium) (1.7.1)\n",
      "Requirement already satisfied: pycparser in c:\\users\\smhrd\\anaconda3\\lib\\site-packages (from cffi>=1.14->trio~=0.17->selenium) (2.21)\n",
      "Collecting h11<1,>=0.9.0 (from wsproto>=0.14->trio-websocket~=0.9->selenium)\n",
      "  Downloading h11-0.14.0-py3-none-any.whl (58 kB)\n",
      "                                              0.0/58.3 kB ? eta -:--:--\n",
      "     ---------------------------------------- 58.3/58.3 kB ? eta 0:00:00\n",
      "Installing collected packages: outcome, h11, exceptiongroup, wsproto, trio, trio-websocket, selenium\n",
      "Successfully installed exceptiongroup-1.1.2 h11-0.14.0 outcome-1.2.0 selenium-4.11.2 trio-0.22.2 trio-websocket-0.10.3 wsproto-1.2.0\n"
     ]
    }
   ],
   "source": [
    "# 기본적으로 파이썬에 내장된 라이브러리가 아니라서 설치해야함\n",
    "!pip install selenium"
   ]
  },
  {
   "cell_type": "code",
   "execution_count": 3,
   "id": "fec1e1e5",
   "metadata": {},
   "outputs": [],
   "source": [
    "# webdriver >> 웹 브라우저를 제어하기 위한 라이브러리\n",
    "from selenium import webdriver as wb\n",
    "\n",
    "# web을 통해서 값을 '입력' 하기위한 라이브러리 == pc용 키보드\n",
    "from selenium.webdriver.common.keys import Keys\n",
    "\n",
    "# tag의 위치를 찾기위한 라이브러리\n",
    "from selenium.webdriver.common.by import By"
   ]
  },
  {
   "cell_type": "markdown",
   "id": "6922f849",
   "metadata": {},
   "source": [
    "### selenium 환경설정\n",
    "- 크롬드라이버를 항상 최신버전으로 유지해주어야 실행이 된다\n",
    "- 브라우저의 버전과 크롬 드라이버의 버전을 맞게 다운받는다\n",
    "- 115ver  기준(https://edgedl.me.gvt1.com/edgedl/chrome/chrome-for-testing/115.0.5790.170/win64/chromedriver-win64.zip)\n",
    "- 크롬드라이버는 늘 최신버전이어야 한다"
   ]
  },
  {
   "cell_type": "code",
   "execution_count": 5,
   "id": "b50f470a",
   "metadata": {},
   "outputs": [],
   "source": [
    "# 크롬 드라이버 실행\n",
    "driver = wb.Chrome()\n",
    "\n",
    "# 주소를 알려주지 않으면 빈 창이 뜨므로\n",
    "# requests 처럼 메소드를 사용하여 페이지의 url을 입력\n",
    "driver.get('https://www.naver.com/')\n",
    "\n",
    "# 이제부터 drive라는 변수가 페이지의 모든정보를 갖고있게된다"
   ]
  },
  {
   "cell_type": "code",
   "execution_count": 17,
   "id": "2a953c15",
   "metadata": {
    "scrolled": true
   },
   "outputs": [
    {
     "data": {
      "text/plain": [
       "<selenium.webdriver.remote.webelement.WebElement (session=\"61bdc6fdcbf36f5999a1480fb8034dbc\", element=\"DB76A3FE1FDBD0A311604A1355683044_element_23\")>"
      ]
     },
     "execution_count": 17,
     "metadata": {},
     "output_type": "execute_result"
    }
   ],
   "source": [
    "# 검색창 위치 찾기(By 라이브러리)\n",
    "driver.find_element(By.ID, 'query')"
   ]
  },
  {
   "cell_type": "code",
   "execution_count": 18,
   "id": "ba25af4b",
   "metadata": {},
   "outputs": [],
   "source": [
    "search = driver.find_element(By.ID, 'query')"
   ]
  },
  {
   "cell_type": "code",
   "execution_count": 9,
   "id": "03ae7a81",
   "metadata": {},
   "outputs": [],
   "source": [
    "# 검색어 입력하기\n",
    "# search 검색창의 위치\n",
    "# send_keys('단어') >> '단어'라는 키워드를 검색창에 전송\n",
    "# web driver에 검색할 창이 켜져있는 상태에서 키를 보내야한다\n",
    "search.send_keys('스크래치')"
   ]
  },
  {
   "cell_type": "code",
   "execution_count": 11,
   "id": "2eb9875e",
   "metadata": {},
   "outputs": [],
   "source": [
    "# 검색버튼 클릭\n",
    "search_btn = driver.find_element(By.ID, 'search-btn')\n",
    "search_btn.click()"
   ]
  },
  {
   "cell_type": "code",
   "execution_count": 13,
   "id": "ca2728a2",
   "metadata": {},
   "outputs": [],
   "source": [
    "# 뒤로가기\n",
    "driver.back()"
   ]
  },
  {
   "cell_type": "code",
   "execution_count": 21,
   "id": "c3341c83",
   "metadata": {},
   "outputs": [],
   "source": [
    "# 엔터\n",
    "# 키보드의 Enter 기능사용\n",
    "search = driver.find_element(By.ID, 'query')\n",
    "search.send_keys('점심밥')\n",
    "search.send_keys(Keys.ENTER)"
   ]
  },
  {
   "cell_type": "code",
   "execution_count": 22,
   "id": "03d36bea",
   "metadata": {},
   "outputs": [],
   "source": [
    "# 크롬창 종료\n",
    "driver.close()"
   ]
  }
 ],
 "metadata": {
  "kernelspec": {
   "display_name": "Python 3 (ipykernel)",
   "language": "python",
   "name": "python3"
  },
  "language_info": {
   "codemirror_mode": {
    "name": "ipython",
    "version": 3
   },
   "file_extension": ".py",
   "mimetype": "text/x-python",
   "name": "python",
   "nbconvert_exporter": "python",
   "pygments_lexer": "ipython3",
   "version": "3.11.3"
  }
 },
 "nbformat": 4,
 "nbformat_minor": 5
}

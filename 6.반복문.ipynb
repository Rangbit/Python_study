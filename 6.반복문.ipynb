{
 "cells": [
  {
   "cell_type": "markdown",
   "id": "13342d52",
   "metadata": {},
   "source": [
    "### 반복문\n",
    "- while, for"
   ]
  },
  {
   "cell_type": "code",
   "execution_count": 1,
   "id": "90774cc4",
   "metadata": {},
   "outputs": [
    {
     "name": "stdout",
     "output_type": "stream",
     "text": [
      "1 파이썬 최고\n",
      "2 파이썬 최고\n",
      "3 파이썬 최고\n",
      "4 파이썬 최고\n",
      "5 파이썬 최고\n",
      "6 파이썬 최고\n",
      "7 파이썬 최고\n",
      "8 파이썬 최고\n",
      "9 파이썬 최고\n",
      "10 파이썬 최고\n",
      "11 파이썬 최고\n",
      "12 파이썬 최고\n",
      "13 파이썬 최고\n"
     ]
    }
   ],
   "source": [
    "num = 1\n",
    "while num<=13 :\n",
    "    print(num,\"파이썬 최고\")\n",
    "    num+=1"
   ]
  },
  {
   "cell_type": "code",
   "execution_count": 6,
   "id": "eb29c9c3",
   "metadata": {},
   "outputs": [
    {
     "name": "stdout",
     "output_type": "stream",
     "text": [
      "첫 번째 정수 입력 >> 1\n",
      "두 번째 정수 입력 >> 1\n",
      "두 정수의 합 : 2\n",
      "첫 번째 정수 입력 >> 1\n",
      "두 번째 정수 입력 >> 0\n",
      "두 정수의 합 : 1\n",
      "첫 번째 정수 입력 >> 0\n",
      "두 번째 정수 입력 >> 1\n",
      "두 정수의 합 : 1\n",
      "첫 번째 정수 입력 >> 0\n",
      "두 번째 정수 입력 >> 0\n",
      "프로그램 종료.\n"
     ]
    }
   ],
   "source": [
    "\n",
    "while True :\n",
    "    num1 = int(input(\"첫 번째 정수 입력 >> \"))\n",
    "    num2 = int(input(\"두 번째 정수 입력 >> \"))\n",
    "    if num1 == 0 and num2 == 0 :\n",
    "        print(\"프로그램 종료.\")\n",
    "        break\n",
    "    else :\n",
    "        print(f\"두 정수의 합 : {num1+num2}\")\n",
    "       \n",
    "    "
   ]
  },
  {
   "cell_type": "markdown",
   "id": "08c6b571",
   "metadata": {},
   "source": [
    "### for 문\n",
    "- 시퀀스 자료구조(문자열 or 튜플 or 리스트 등)의 안에있는 요소들을 하나씩 꺼내서 반복을 수행"
   ]
  },
  {
   "cell_type": "code",
   "execution_count": 7,
   "id": "0ee0244e",
   "metadata": {},
   "outputs": [
    {
     "name": "stdout",
     "output_type": "stream",
     "text": [
      "햄버거\n",
      "치킨\n",
      "피자\n"
     ]
    }
   ],
   "source": [
    "list_food = ['햄버거', '치킨', '피자']\n",
    "for food in list_food:\n",
    "    print(food)"
   ]
  },
  {
   "cell_type": "code",
   "execution_count": 12,
   "id": "fea133a2",
   "metadata": {},
   "outputs": [
    {
     "name": "stdout",
     "output_type": "stream",
     "text": [
      "1번 학생은 합격입니다.\n",
      "2번 학생은 불합격입니다.\n",
      "3번 학생은 합격입니다.\n",
      "4번 학생은 합격입니다.\n",
      "5번 학생은 불합격입니다.\n"
     ]
    }
   ],
   "source": [
    "score_list = [90, 45, 70, 60, 55]\n",
    "count_num = 1\n",
    "for x in score_list : \n",
    "    if x >= 60 :\n",
    "        print(f\"{count_num}번 학생은 합격입니다.\")\n",
    "    else :\n",
    "        print(f\"{count_num}번 학생은 불합격입니다.\")\n",
    "    count_num += 1"
   ]
  },
  {
   "cell_type": "markdown",
   "id": "de02a13d",
   "metadata": {},
   "source": [
    "### range() 함수\n",
    "- range(시작값,끝값,증가량) // 끝값은 포함하지 않는다"
   ]
  },
  {
   "cell_type": "code",
   "execution_count": 25,
   "id": "7f123dbd",
   "metadata": {},
   "outputs": [
    {
     "name": "stdout",
     "output_type": "stream",
     "text": [
      "0 1 2 3 4 5 6 7 8 9 "
     ]
    }
   ],
   "source": [
    "#for i in range(1,10,1) : \n",
    "for i in range(10) :\n",
    "    print(i, end = \" \")"
   ]
  },
  {
   "cell_type": "code",
   "execution_count": 19,
   "id": "d20c4e9d",
   "metadata": {},
   "outputs": [
    {
     "name": "stdout",
     "output_type": "stream",
     "text": [
      "97 96 95 94 93 92 91 90 89 88 87 86 85 84 83 82 81 80 79 78 77 "
     ]
    }
   ],
   "source": [
    "for i in range(97,76,-1) : \n",
    "    print(i, end = \" \")"
   ]
  },
  {
   "cell_type": "code",
   "execution_count": 24,
   "id": "b52da23d",
   "metadata": {},
   "outputs": [
    {
     "name": "stdout",
     "output_type": "stream",
     "text": [
      "23 24 25 26 27 28 29 30 31 32 33 34 35 36 37 38 39 40 "
     ]
    }
   ],
   "source": [
    "for e in range(23,41) : \n",
    "    print(e, end = \" \")"
   ]
  },
  {
   "cell_type": "code",
   "execution_count": 27,
   "id": "7f48df7c",
   "metadata": {},
   "outputs": [
    {
     "name": "stdout",
     "output_type": "stream",
     "text": [
      "99\n"
     ]
    }
   ],
   "source": [
    "list2 = [-4,5,2,1,99,15,2,7,27]\n",
    "max_num = list2[0]\n",
    "for x in list2 : \n",
    "    if x > max_num :\n",
    "        max_num = x\n",
    "print(max_num)"
   ]
  },
  {
   "cell_type": "code",
   "execution_count": 29,
   "id": "3a045f56",
   "metadata": {},
   "outputs": [
    {
     "name": "stdout",
     "output_type": "stream",
     "text": [
      "*\n",
      "**\n",
      "***\n",
      "****\n",
      "*****\n",
      "******\n",
      "*******\n",
      "********\n"
     ]
    }
   ],
   "source": [
    "star = '*'\n",
    "count = 1\n",
    "while count <= 8 :\n",
    "    print(star*count)\n",
    "    count+=1"
   ]
  },
  {
   "cell_type": "code",
   "execution_count": 32,
   "id": "597bb094",
   "metadata": {},
   "outputs": [
    {
     "name": "stdout",
     "output_type": "stream",
     "text": [
      "정수를 입력해주세요 >> 5\n",
      "*\n",
      "**\n",
      "***\n",
      "****\n",
      "*****\n"
     ]
    }
   ],
   "source": [
    "star = '*'\n",
    "count = int(input(\"정수를 입력해주세요 >> \"))\n",
    "for x in range(1,count+1) : \n",
    "    print(star*x)"
   ]
  },
  {
   "cell_type": "code",
   "execution_count": 36,
   "id": "c22e4616",
   "metadata": {},
   "outputs": [
    {
     "name": "stdout",
     "output_type": "stream",
     "text": [
      "*\n",
      "**\n",
      "***\n",
      "****\n",
      "*****\n",
      "******\n",
      "*****\n",
      "****\n",
      "***\n",
      "**\n",
      "*\n"
     ]
    }
   ],
   "source": [
    "star = '*'\n",
    "for x in range(1,7) :\n",
    "    print(star*x)\n",
    "for y in range(5,0,-1) :\n",
    "    print(star*y)"
   ]
  },
  {
   "cell_type": "code",
   "execution_count": 1,
   "id": "650b6608",
   "metadata": {},
   "outputs": [
    {
     "name": "stdout",
     "output_type": "stream",
     "text": [
      "=== 키오스크 메뉴 ===\n",
      "1. 햄버거\n",
      "2. 피자\n",
      "3. 음료수\n",
      "메뉴를 선택하거나 'q'를 눌러 종료하세요 : 1\n",
      "햄버거 을 선택하셨습니다.\n",
      "\n",
      "=== 키오스크 메뉴 ===\n",
      "1. 햄버거\n",
      "2. 피자\n",
      "3. 음료수\n",
      "메뉴를 선택하거나 'q'를 눌러 종료하세요 : 2\n",
      "피자 을 선택하셨습니다.\n",
      "\n",
      "=== 키오스크 메뉴 ===\n",
      "1. 햄버거\n",
      "2. 피자\n",
      "3. 음료수\n",
      "메뉴를 선택하거나 'q'를 눌러 종료하세요 : 4\n",
      "올바른 메뉴를 입력해주세요\n",
      "\n",
      "=== 키오스크 메뉴 ===\n",
      "1. 햄버거\n",
      "2. 피자\n",
      "3. 음료수\n",
      "메뉴를 선택하거나 'q'를 눌러 종료하세요 : 4\n",
      "올바른 메뉴를 입력해주세요\n",
      "\n",
      "=== 키오스크 메뉴 ===\n",
      "1. 햄버거\n",
      "2. 피자\n",
      "3. 음료수\n",
      "메뉴를 선택하거나 'q'를 눌러 종료하세요 : 4\n",
      "올바른 메뉴를 입력해주세요\n",
      "\n",
      "=== 키오스크 메뉴 ===\n",
      "1. 햄버거\n",
      "2. 피자\n",
      "3. 음료수\n",
      "메뉴를 선택하거나 'q'를 눌러 종료하세요 : 3\n",
      "음료수 을 선택하셨습니다.\n",
      "\n",
      "=== 주문한 메뉴 ===\n",
      "햄버거\n",
      "피자\n",
      "음료수\n"
     ]
    }
   ],
   "source": [
    "list_food = ['햄버거', '피자', '음료수']\n",
    "order = []\n",
    "while len(list_food) > len(order) : \n",
    "    cnt = 0\n",
    "    print(\"=== 키오스크 메뉴 ===\")\n",
    "    for i in list_food :\n",
    "        print(f\"{cnt+1}. {i}\")\n",
    "        cnt += 1\n",
    "    menuq= input(\"메뉴를 선택하거나 \\'q\\'를 눌러 종료하세요 : \")\n",
    "    if menuq=='q' :\n",
    "        break\n",
    "    elif menuq not in ['1','2','3'] :\n",
    "        print(\"올바른 메뉴를 입력해주세요\\n\")\n",
    "    else :\n",
    "        print(list_food[int(menuq)-1],\"을 선택하셨습니다.\\n\")\n",
    "        order.append(list_food[int(menuq)-1])\n",
    "print(\"=== 주문한 메뉴 ===\")\n",
    "for item in order :\n",
    "    print(item)"
   ]
  },
  {
   "cell_type": "code",
   "execution_count": null,
   "id": "635fbb99",
   "metadata": {},
   "outputs": [],
   "source": []
  }
 ],
 "metadata": {
  "kernelspec": {
   "display_name": "Python 3 (ipykernel)",
   "language": "python",
   "name": "python3"
  },
  "language_info": {
   "codemirror_mode": {
    "name": "ipython",
    "version": 3
   },
   "file_extension": ".py",
   "mimetype": "text/x-python",
   "name": "python",
   "nbconvert_exporter": "python",
   "pygments_lexer": "ipython3",
   "version": "3.11.3"
  }
 },
 "nbformat": 4,
 "nbformat_minor": 5
}
